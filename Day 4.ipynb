{
 "cells": [
  {
   "cell_type": "code",
   "execution_count": 7,
   "id": "28a34a1b-9466-46e6-a47d-712c9427b01a",
   "metadata": {},
   "outputs": [
    {
     "data": {
      "text/plain": [
       "b''"
      ]
     },
     "execution_count": 7,
     "metadata": {},
     "output_type": "execute_result"
    }
   ],
   "source": [
    "#Image read write\n",
    "f = open(\"download.jpg\",\"rb\")\n",
    "f2 = open(\"newdownload.jpg\",\"wb\")\n",
    "bytes = f.read()\n",
    "f2.write(bytes)\n",
    "bytes"
   ]
  },
  {
   "cell_type": "code",
   "execution_count": 11,
   "id": "5230d38c-83a6-4f7b-a2b6-0b6156d2ccd4",
   "metadata": {},
   "outputs": [
    {
     "name": "stdin",
     "output_type": "stream",
     "text": [
      "Enter number of employees : 3\n",
      "Enter employee no :  1\n",
      "Enter employee name :  Lakhan\n",
      "Enter employee salary :  300\n",
      "Enter employee address :  Shirpur\n",
      "Enter employee no :  2\n",
      "Enter employee name :  Krushna\n",
      "Enter employee salary :  200\n",
      "Enter employee address :  Shirpur\n",
      "Enter employee no :  3\n",
      "Enter employee name :  Ayush\n",
      "Enter employee salary :  100\n",
      "Enter employee address :  Vapi\n"
     ]
    },
    {
     "name": "stdout",
     "output_type": "stream",
     "text": [
      "Data inserted successfully!\n"
     ]
    }
   ],
   "source": [
    "#Write in csv\n",
    "import csv\n",
    "with open(\"emp.csv\",\"w\",newline='') as f:\n",
    "    w=csv.writer(f)\n",
    "    w.writerow([\"ENO\",\"ENAME\",\"ESALARY\", \"EADDR\"])\n",
    "    n=int(input(\"Enter number of employees :\"))\n",
    "    for i in range(n):\n",
    "        eno=input(\"Enter employee no : \")\n",
    "        ename=input(\"Enter employee name : \")\n",
    "        esal=input(\"Enter employee salary : \")\n",
    "        eaddr=input(\"Enter employee address : \")\n",
    "        w.writerow([eno,ename,esal,eaddr])\n",
    "\n",
    "print(\"Data inserted successfully!\")"
   ]
  },
  {
   "cell_type": "code",
   "execution_count": 13,
   "id": "995596e2-9c31-46a7-b950-aa88adc8f3fb",
   "metadata": {},
   "outputs": [
    {
     "name": "stdout",
     "output_type": "stream",
     "text": [
      "[['ENO', 'ENAME', 'ESALARY', 'EADDR'], ['1', 'Lakhan', '300', 'Shirpur'], ['2', 'Krushna', '200', 'Shirpur'], ['3', 'Ayush', '100', 'Vapi']]\n",
      "ENO \tENAME \tESALARY \tEADDR \t\n",
      "1 \tLakhan \t300 \tShirpur \t\n",
      "2 \tKrushna \t200 \tShirpur \t\n",
      "3 \tAyush \t100 \tVapi \t\n"
     ]
    }
   ],
   "source": [
    "#Reading csv\n",
    "f = open(\"emp.csv\",'r')\n",
    "r = csv.reader(f)\n",
    "data=list(r)\n",
    "print(data)\n",
    "for line in data:\n",
    "    for word  in line:\n",
    "        print(word,\"\\t\",end='')\n",
    "    print()"
   ]
  },
  {
   "cell_type": "code",
   "execution_count": 1,
   "id": "7dae10d1-da17-4ff4-99a6-288a49d6a2ab",
   "metadata": {},
   "outputs": [],
   "source": [
    "#Types of error\n",
    "#1. compile time error- errors while writing code, without resolving those error code \n",
    "# will not execute\n",
    "#2. runtime error- error- known as exceptions, handling those errors is called \n",
    "# exception handling,"
   ]
  },
  {
   "cell_type": "code",
   "execution_count": 3,
   "id": "daedd5b1-9777-499a-9612-b9701514b2a2",
   "metadata": {},
   "outputs": [],
   "source": [
    "# Exception handling this concept can be only implemented for\n",
    "# runtime error but not for syntax error because syntax error can be\n",
    "# solve by or correct by programmer\n",
    "\n",
    "# Syntax error comes at compile time so there is no meaning to write\n",
    "# exception handling code here\n",
    "\n",
    "# But runtime error comes at runtime so here there is max to max\n",
    "# chance that to generate exception"
   ]
  },
  {
   "cell_type": "code",
   "execution_count": 33,
   "id": "3c6c5c96-149d-4e00-987c-2f482941207d",
   "metadata": {},
   "outputs": [
    {
     "name": "stdin",
     "output_type": "stream",
     "text": [
      "Enter a: 1\n",
      "Enter b: 0\n"
     ]
    },
    {
     "name": "stdout",
     "output_type": "stream",
     "text": [
      "Try Block\n",
      "Except block\n",
      "You are not allowed to divide by 0 \n",
      " division by zero\n",
      "Finally block\n"
     ]
    }
   ],
   "source": [
    "a = int(input(\"Enter a:\"))\n",
    "b = int(input(\"Enter b:\"))\n",
    "try:\n",
    "    print(\"Try Block\")\n",
    "    print(a/b)\n",
    "except ZeroDivisionError as msg:\n",
    "    print(\"Except block\")\n",
    "    print(\"You are not allowed to divide by 0 \\n\",msg)\n",
    "except:\n",
    "    print(\"Hehe\")\n",
    "finally:\n",
    "    print(\"Finally block\")\n",
    "# print(a/b)"
   ]
  },
  {
   "cell_type": "code",
   "execution_count": 39,
   "id": "3c7116f8-aaa9-477d-889e-a3ba2312302b",
   "metadata": {},
   "outputs": [
    {
     "name": "stdin",
     "output_type": "stream",
     "text": [
      "Enter age:  61\n"
     ]
    },
    {
     "ename": "TooYoungException",
     "evalue": "Too old",
     "output_type": "error",
     "traceback": [
      "\u001b[1;31m---------------------------------------------------------------------------\u001b[0m",
      "\u001b[1;31mTooYoungException\u001b[0m                         Traceback (most recent call last)",
      "Cell \u001b[1;32mIn[39], line 13\u001b[0m\n\u001b[0;32m     11\u001b[0m age \u001b[38;5;241m=\u001b[39m \u001b[38;5;28mint\u001b[39m(\u001b[38;5;28minput\u001b[39m(\u001b[38;5;124m\"\u001b[39m\u001b[38;5;124mEnter age: \u001b[39m\u001b[38;5;124m\"\u001b[39m))\n\u001b[0;32m     12\u001b[0m \u001b[38;5;28;01mif\u001b[39;00m age\u001b[38;5;241m>\u001b[39m\u001b[38;5;241m60\u001b[39m:\n\u001b[1;32m---> 13\u001b[0m     \u001b[38;5;28;01mraise\u001b[39;00m TooYoungException(\u001b[38;5;124m\"\u001b[39m\u001b[38;5;124mToo old\u001b[39m\u001b[38;5;124m\"\u001b[39m)\n\u001b[0;32m     14\u001b[0m \u001b[38;5;28;01melif\u001b[39;00m age\u001b[38;5;241m<\u001b[39m\u001b[38;5;241m18\u001b[39m:\n\u001b[0;32m     15\u001b[0m     \u001b[38;5;28;01mraise\u001b[39;00m TooOldException(\u001b[38;5;124m\"\u001b[39m\u001b[38;5;124mnot eligible, young\u001b[39m\u001b[38;5;124m\"\u001b[39m)\n",
      "\u001b[1;31mTooYoungException\u001b[0m: Too old"
     ]
    }
   ],
   "source": [
    "class TooYoungException(Exception):\n",
    "    def __init__(self,arg):\n",
    "        self.msg = arg\n",
    "\n",
    "class TooOldException(Exception):\n",
    "    def __init__(self,arg):\n",
    "        self.msg = arg\n",
    "    \n",
    "\n",
    "\n",
    "age = int(input(\"Enter age: \"))\n",
    "if age>60:\n",
    "    raise TooYoungException(\"Too old\")\n",
    "elif age<18:\n",
    "    raise TooOldException(\"not eligible, young\")\n",
    "else:\n",
    "    print(\"Elogible\")"
   ]
  },
  {
   "cell_type": "code",
   "execution_count": 71,
   "id": "b4ccd502-e5d3-41ec-b474-9dd4f356355c",
   "metadata": {},
   "outputs": [
    {
     "name": "stdout",
     "output_type": "stream",
     "text": [
      "[17, 5, 2]\n"
     ]
    }
   ],
   "source": [
    "#Leaders\n",
    "arr = [16,17,4,3,5,2]\n",
    "l = []\n",
    "for i in range(len(arr)):\n",
    "    maxx = arr[i]\n",
    "    for j in range(i,len(arr)):\n",
    "        if(arr[j]>maxx):\n",
    "            maxx = arr[j]\n",
    "    if maxx not in l:\n",
    "        l.append(maxx)\n",
    "print(l)\n"
   ]
  },
  {
   "cell_type": "code",
   "execution_count": 73,
   "id": "9ed8a727-212a-42d3-8a04-dd1595d6e724",
   "metadata": {},
   "outputs": [
    {
     "name": "stdout",
     "output_type": "stream",
     "text": [
      "2 3\n"
     ]
    }
   ],
   "source": [
    "vowels = ['a' , 'e' , 'i' , 'o' , 'u']\n",
    "v = 0\n",
    "c = 0\n",
    "s = 'hello'\n",
    "for i in s:\n",
    "    if i not in vowels:\n",
    "        c =c+1\n",
    "    else:\n",
    "        v = v+1\n",
    "print(v,c)"
   ]
  },
  {
   "cell_type": "code",
   "execution_count": 81,
   "id": "daafdb78-4674-4fe5-b10a-dba3092145e4",
   "metadata": {},
   "outputs": [
    {
     "name": "stdout",
     "output_type": "stream",
     "text": [
      "Yes\n"
     ]
    }
   ],
   "source": [
    "#Check palindrome list\n",
    "l = [1,2,3,2,1]\n",
    "i = 0\n",
    "j = len(l)-1\n",
    "f = True\n",
    "while(i<=j):\n",
    "    if(l[i]==l[j]):\n",
    "        f = True\n",
    "    else:\n",
    "        f = False\n",
    "        break\n",
    "    i = i+1\n",
    "    j = j-1\n",
    "if(f == True):\n",
    "    print(\"Yes\")\n",
    "else:\n",
    "    print(\"No\")"
   ]
  },
  {
   "cell_type": "code",
   "execution_count": 99,
   "id": "13a83dd1-cdab-4667-8500-0196c1fe9a7d",
   "metadata": {},
   "outputs": [
    {
     "data": {
      "text/plain": [
       "[1, 2, 3, 4, 5, 6]"
      ]
     },
     "execution_count": 99,
     "metadata": {},
     "output_type": "execute_result"
    }
   ],
   "source": [
    "# merge 2 sorted arrays\n",
    "a1 = [1,3,5]\n",
    "a2 = [2,4,6]\n",
    "ans = []\n",
    "i=3\n",
    "j=1\n",
    "f = 0\n",
    "while(True):\n",
    "    if(i>len(a1)-1):\n",
    "        f = 1\n",
    "        break\n",
    "        \n",
    "    elif(j>len(a2)-1):\n",
    "        f = 2\n",
    "        break\n",
    "        \n",
    "    if a1[i]<a2[j]:\n",
    "        ans.append(a1[i])\n",
    "        i=i+1\n",
    "    else:\n",
    "        ans.append(a2[j])\n",
    "        j=j+1\n",
    "\n",
    "if f ==1:\n",
    "    for i in range(j,len(a2)):\n",
    "        ans.append(a2[i])\n",
    "else:\n",
    "    for i in range(i,len(a1)):\n",
    "        ans.append(a2[i])\n",
    "ans"
   ]
  },
  {
   "cell_type": "code",
   "execution_count": 105,
   "id": "ba01ef2d-8d52-47a2-844d-df5dfd0228b0",
   "metadata": {},
   "outputs": [
    {
     "name": "stdout",
     "output_type": "stream",
     "text": [
      "[7, 6, 5, 4, 3, 2, 1]\n"
     ]
    }
   ],
   "source": [
    "#Reverse list without shortcut and in same list\n",
    "\n",
    "l = [1,2,3,4,5,6,7]\n",
    "i = 0\n",
    "j = len(l)-1\n",
    "while(i<j):\n",
    "    temp = l[i]\n",
    "    l[i]=l[j]\n",
    "    l[j]=temp\n",
    "    i = i+1\n",
    "    j = j-1\n",
    "\n",
    "print(l)"
   ]
  },
  {
   "cell_type": "code",
   "execution_count": 107,
   "id": "11c5c467-9c8b-49b7-bdf9-070736fa2989",
   "metadata": {},
   "outputs": [],
   "source": [
    "#Python object oriented programming\n",
    "# oops features\n",
    "# -------------\n",
    "# 1. class\n",
    "# 2. object\n",
    "# 3. inheritance\n",
    "# 4. polymorphism\n",
    "# 5. abstraction\n",
    "# 6. encapsulation\n",
    "# 7. dynamic binding\n",
    "# 8. exception handling\n",
    "# 9. message passing"
   ]
  },
  {
   "cell_type": "code",
   "execution_count": 111,
   "id": "8a13c1c6-a218-4580-a029-89608e543822",
   "metadata": {},
   "outputs": [],
   "source": [
    "# class: \n",
    "# - class is a logical representation of things \n",
    "# - class is like a blueprint or template for object\n",
    "\n",
    "# object:\n",
    "# - object is physical representation of class and things\n",
    "\n",
    "# inheritance:\n",
    "# - reuse of code\n",
    "\n",
    "# polymorphism\n",
    "# - having multiple form is known as polymorphism\n",
    "# - ex: person- pasenger, student, son, etc diff role person same\n",
    "\n",
    "# abstraction\n",
    "# - hiding things\n",
    "# - ex: window- shows only things that window wants to show\n",
    "\n",
    "# encapsulation\n",
    "# - binding data \n",
    "\n",
    "# dynamic binding\n",
    "# - \n",
    "\n",
    "# exception handling\n",
    "# - \n",
    "\n",
    "# message passing\n",
    "# - sending and receiving message from one constructor to another, one class to another"
   ]
  },
  {
   "cell_type": "code",
   "execution_count": 113,
   "id": "0a5dd0ab-0e98-436f-b462-8d91f596cb32",
   "metadata": {},
   "outputs": [],
   "source": [
    "# Class is a way which binds data member and its associates\n",
    "# function together within a single unit.\n",
    "# Any variables declare within a class are called data members,\n",
    "# any functions declare within a class are called members\n",
    "# functions.\n",
    "# Everything in a python is a object\n",
    "# Class properties can be represented by member variable\n",
    "# In class action is done by member function"
   ]
  },
  {
   "cell_type": "code",
   "execution_count": 115,
   "id": "382e0c3e-3973-4480-b2b2-779b2f5c70ba",
   "metadata": {},
   "outputs": [
    {
     "name": "stdout",
     "output_type": "stream",
     "text": [
      "Hello\n"
     ]
    }
   ],
   "source": [
    "class Student:\n",
    "    def showInfo(self):     # self is default argument\n",
    "        print(\"Hello\")\n",
    "\n",
    "obj = Student()\n",
    "obj.showInfo()"
   ]
  },
  {
   "cell_type": "code",
   "execution_count": 117,
   "id": "89cc3ee0-8013-4a05-8c91-a9e93290a1c9",
   "metadata": {},
   "outputs": [],
   "source": [
    "# Constructor\n",
    "\n",
    "# 1. Here in python the name of the constructor is\n",
    "# 2. Constructor call automatically whenever we create object or we\n",
    "# can say that at the time of creation of object.\n",
    "# 3. There is no mandatory to declare a constructor inside class but\n",
    "# if we are not going to declare constructor so python provide\n",
    "# default constructor.\n",
    "# 4. Constructor will execute only one time when we create a\n",
    "# object.\n",
    "# 5. Always we have to pass one argument in constructor(self).\n",
    "\n",
    "# __init_(self)."
   ]
  },
  {
   "cell_type": "code",
   "execution_count": 135,
   "id": "610267ca-e723-4b3b-8bba-37ae25fce62a",
   "metadata": {},
   "outputs": [
    {
     "name": "stdin",
     "output_type": "stream",
     "text": [
      "Enter name Lakhan\n",
      "Enter age 18\n",
      "Enter percentage 99\n"
     ]
    },
    {
     "name": "stdout",
     "output_type": "stream",
     "text": [
      "Constructor call hua bhai\n",
      "Name: Lakhan\n",
      "Age: 18\n",
      "Percentage: 99\n",
      "Constructor call hua bhai\n",
      "Name: Ayush\n",
      "Age: 19\n",
      "Percentage: 100\n"
     ]
    }
   ],
   "source": [
    "class Student:\n",
    "    def __init__(self,name,age,per):\n",
    "        self.name = name\n",
    "        self.age = age\n",
    "        self.per = per\n",
    "        print(\"Constructor call hua bhai\")\n",
    "    def showInfo(self):    \n",
    "        print(\"Name:\",self.name)\n",
    "        print(\"Age:\",self.age)\n",
    "        print(\"Percentage:\",self.per)\n",
    "\n",
    "name = input(\"Enter name\")\n",
    "age = int(input(\"Enter age\"))\n",
    "per = int(input(\"Enter percentage\"))\n",
    "\n",
    "obj1 = Student(name,age,per)\n",
    "obj1.showInfo()\n",
    "obj2= Student(\"Ayush\",19,100)\n",
    "obj2.showInfo()"
   ]
  },
  {
   "cell_type": "code",
   "execution_count": 137,
   "id": "bc1e7ba1-5928-4d16-ae5b-b8e274c7ae76",
   "metadata": {},
   "outputs": [
    {
     "name": "stdout",
     "output_type": "stream",
     "text": [
      "2nd\n"
     ]
    }
   ],
   "source": [
    "# in python constructor overloading is not allowed ...\n",
    "# if done last constructor will get called\n",
    "\n",
    "class MyPython():\n",
    "    def __init__(self):\n",
    "        print(\"1st\")\n",
    "    def __init__(self):\n",
    "        print(\"2nd\")\n",
    "\n",
    "o = MyPython()"
   ]
  },
  {
   "cell_type": "code",
   "execution_count": 139,
   "id": "fa9371c7-bd28-46d2-886c-427893d79ff6",
   "metadata": {},
   "outputs": [
    {
     "name": "stdout",
     "output_type": "stream",
     "text": [
      "{'a': 10, 'b': 20, 'c': 30, 'd': 40}\n",
      "{'a': 10, 'b': 20, 'c': 30}\n",
      "{'a': 10, 'b': 20}\n"
     ]
    }
   ],
   "source": [
    "class MyPython():\n",
    "    def __init__(self):\n",
    "        self.a = 10\n",
    "        self.b = 20\n",
    "        self.c = 30\n",
    "        self.d = 40\n",
    "    def func(self):\n",
    "        del self.d\n",
    "\n",
    "m = MyPython()\n",
    "print(m.__dict__)\n",
    "m.func()\n",
    "print(m.__dict__)\n",
    "del m.c\n",
    "print(m.__dict__)"
   ]
  },
  {
   "cell_type": "code",
   "execution_count": null,
   "id": "cf113ce3-93a2-4d12-9eb6-cb7916527462",
   "metadata": {},
   "outputs": [],
   "source": [
    "# static variable\n",
    "class MyPython():\n",
    "    x = 20    # static variable\n",
    "    def __init__(self):\n",
    "        self.a = 10\n",
    "\n",
    "m1 = MyPython()\n",
    "m2 = MyPython()\n"
   ]
  }
 ],
 "metadata": {
  "kernelspec": {
   "display_name": "Python 3 (ipykernel)",
   "language": "python",
   "name": "python3"
  },
  "language_info": {
   "codemirror_mode": {
    "name": "ipython",
    "version": 3
   },
   "file_extension": ".py",
   "mimetype": "text/x-python",
   "name": "python",
   "nbconvert_exporter": "python",
   "pygments_lexer": "ipython3",
   "version": "3.12.4"
  }
 },
 "nbformat": 4,
 "nbformat_minor": 5
}
