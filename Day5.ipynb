{
 "cells": [
  {
   "cell_type": "code",
   "execution_count": 6,
   "id": "c84326c4-163f-465c-8ac5-1b686f3b170c",
   "metadata": {},
   "outputs": [
    {
     "name": "stdout",
     "output_type": "stream",
     "text": [
      "100\n",
      "222\n",
      "333\n"
     ]
    }
   ],
   "source": [
    "#local variables\n",
    "class Test:\n",
    "    def fun1(self):\n",
    "        a=100\n",
    "        print(a)\n",
    "    def func2(self):\n",
    "        b=222\n",
    "        c=333\n",
    "        print( b)\n",
    "        print(c)\n",
    "t = Test()\n",
    "t.fun1()\n",
    "t.func2()"
   ]
  },
  {
   "cell_type": "code",
   "execution_count": 3,
   "id": "76ce74ae-57d5-42e2-afb9-676c8c2fd73b",
   "metadata": {},
   "outputs": [
    {
     "name": "stdin",
     "output_type": "stream",
     "text": [
      "Enter no of student 2\n",
      "Enter student name:  krushn\n",
      "Enter stu percentage 90\n"
     ]
    },
    {
     "name": "stdout",
     "output_type": "stream",
     "text": [
      "Hi  krushn Yor percentage:  90\n"
     ]
    },
    {
     "name": "stdin",
     "output_type": "stream",
     "text": [
      "Enter student name:  lkhn\n",
      "Enter stu percentage 95\n"
     ]
    },
    {
     "name": "stdout",
     "output_type": "stream",
     "text": [
      "Hi  lkhn Yor percentage:  95\n"
     ]
    }
   ],
   "source": [
    "# Setter and Getter Methods:\n",
    "\n",
    "# We can set and get the values of instance variables\n",
    "# by using getter and setter methods.\n",
    "\n",
    "# Setter Method:\n",
    "\n",
    "# setter methods is used to set values to the instance\n",
    "# variables and also known as mutator methods.\n",
    "\n",
    "# Syntax:\n",
    "\n",
    "# def setVariable(self,variable):\n",
    "# self.variable=variable\n",
    "\n",
    "# Getter Method:\n",
    "\n",
    "# Getter methods can be used to get values of the instance\n",
    "# variables. Getter methods also known as accessor methods.class Student:\n",
    "    def setName(self,name):\n",
    "        self.name = name\n",
    "    def getName(self):\n",
    "        return self.name\n",
    "    def setPercentage(self,percentage):\n",
    "        self.percentage = percentage\n",
    "    def getPercentage(self):\n",
    "        return self.percentage\n",
    "n=int(input(\"Enter no of student\"))\n",
    "s=Student()\n",
    "for i in range(n):\n",
    "    name = input(\"Enter student name: \")\n",
    "    s.setName(name)\n",
    "    percentage=int(input(\"Enter stu percentage\"))\n",
    "    s.setPercentage(percentage)\n",
    "    print(\"Hi \",s.getName(),\"Yor percentage: \",s.getPercentage())\n",
    "    "
   ]
  },
  {
   "cell_type": "code",
   "execution_count": 5,
   "id": "330aee2e-1354-4530-affe-67a3627a4f6e",
   "metadata": {},
   "outputs": [
    {
     "name": "stdout",
     "output_type": "stream",
     "text": [
      "Employee no : 101\n",
      "Employee Name: Krushna\n",
      "Employee salary 200000\n",
      "Employee no : 101\n",
      "Employee Name: Krushna\n",
      "Employee salary 208000\n"
     ]
    }
   ],
   "source": [
    "\n",
    "#Passing members of one class to another class\n",
    "class Employee:\n",
    "    def __init__(self,no,name,sal):\n",
    "        self.eno=no\n",
    "        self.ename=name\n",
    "        self.esal=sal\n",
    "    def showDetails(self):\n",
    "        print(\"Employee no :\",self.eno)\n",
    "        print(\"Employee Name:\",self.ename)\n",
    "        print(\"Employee salary\",self.esal)\n",
    "\n",
    "class Test:\n",
    "    def updates(Employee):\n",
    "        Employee.esal=Employee.esal+8000\n",
    "        Employee.showDetails()\n",
    "e=Employee(101,\"Krushna\",200000)\n",
    "e.showDetails()\n",
    "Test.updates(e)"
   ]
  },
  {
   "cell_type": "code",
   "execution_count": null,
   "id": "25ad3971-9a9e-4fc6-9d47-fb60e1db6f6a",
   "metadata": {},
   "outputs": [],
   "source": [
    "# Inner class :-\n",
    "# When we declare class inside another class that are called as inner\n",
    "# class\n",
    "\n",
    "# Why should we go for inner class?\n",
    "# . When without existing one type of object there will be no chance to\n",
    "# exist another type of object that time we should go for inner class\n",
    "# . It increase the encapsulation\n",
    "# . It improves code readability and maintainable code"
   ]
  },
  {
   "cell_type": "code",
   "execution_count": 9,
   "id": "9ce67b3d-3328-46c3-9754-e77116551639",
   "metadata": {},
   "outputs": [
    {
     "name": "stdout",
     "output_type": "stream",
     "text": [
      "NMIMS Default constructor\n",
      "NMIMS-CE Default constructor\n",
      "techFest\n",
      "NMIMS Default constructor\n",
      "NMIMS-CE Default constructor\n",
      "techFest\n"
     ]
    }
   ],
   "source": [
    "class NMIMS:\n",
    "    def __init__(self):  # Corrected constructor name\n",
    "        print(\"NMIMS Default constructor\")\n",
    "\n",
    "    class CE:\n",
    "        def __init__(self):\n",
    "            print(\"NMIMS-CE Default constructor\")  # Fixed indentation\n",
    "\n",
    "        def techFest(self):\n",
    "            print(\"techFest\")  # Fixed indentation\n",
    "\n",
    "# Creating objects and calling methods\n",
    "obj1 = NMIMS()          # This will call NMIMS constructor\n",
    "obj2 = obj1.CE()        # This will call CE constructor within NMIMS\n",
    "obj2.techFest()         # Calls techFest\n",
    "\n",
    "obj3 = NMIMS().CE()     # Directly creating NMIMS().CE() object\n",
    "obj3.techFest()         # Calls techFest\n"
   ]
  },
  {
   "cell_type": "code",
   "execution_count": null,
   "id": "1021dc01-3cc4-468f-b61d-534ccce73f09",
   "metadata": {},
   "outputs": [],
   "source": [
    "# Garbage Collection in Python\n",
    "#Garbage collection in Python provides an automated way to manage\n",
    "# memory and prevent memory leaks by handling both reference counting and cyclic references\n",
    "# .The gc module gives you additional control if you need fine-tuning in specific use cases.\n",
    "\n",
    "# Garbage Collection in python\n",
    ". As a programmer in C and C++ language we have responsibility to\n",
    "creating and deleting a objects.\n",
    "\n",
    ". In development time, if we forget to delete the object and at\n",
    "runtime of application, so many unused objects take memory so\n",
    "memory related issues may come over there.\n",
    "\n",
    ". In python we have garbage collection concept which running in\n",
    "background continuously to finding unused object and delete that\n",
    "objects also.\n",
    "\n",
    ". By using garbage collector the probability of application failure\n",
    "due to memory issues is very less.\n",
    "\n",
    "\n",
    "\n",
    "\n"
   ]
  },
  {
   "cell_type": "code",
   "execution_count": 15,
   "id": "2a6af017-3ee0-4d25-a6e8-8cf9c5525858",
   "metadata": {},
   "outputs": [
    {
     "name": "stdout",
     "output_type": "stream",
     "text": [
      "Contruction is called\n",
      "Contruction is called\n",
      "Destructor is called\n"
     ]
    }
   ],
   "source": [
    "# Destructors :-\n",
    "\n",
    "# . Destructor is a special type of method, for destructor we use\n",
    "# del\n",
    "# . Internally garbage collector and destructor maintaining very good\n",
    "# co-ordination, how?\n",
    "# Let see.\n",
    "\n",
    "# Before destroying object garbage collector call destructor to perform\n",
    "# clean up operation like resources deallocation closing a database\n",
    "# connection . Garbage collector waiting till the destructor completing\n",
    "# its work because after that garbage collector destroy objects.\n",
    "\n",
    "import gc\n",
    "\n",
    "class Time:\n",
    "    def __init__(self):\n",
    "        print(\"Contruction is called\")\n",
    "\n",
    "    def __del__(self):\n",
    "        print(\"Destructor is called\")\n",
    "\n",
    "t1=Time()\n",
    "t2=Time()\n",
    "t2=t1\n",
    "del t1\n"
   ]
  },
  {
   "cell_type": "code",
   "execution_count": 25,
   "id": "6c2924b5-eb98-487f-9b91-98139564fce9",
   "metadata": {},
   "outputs": [
    {
     "name": "stdout",
     "output_type": "stream",
     "text": [
      "2 argument method:  10 20\n"
     ]
    }
   ],
   "source": [
    "# Overloading method overloding is no supported\n",
    "# Assigning additional task to function is called function overloading\n",
    "# Assigning additional task to constructor is called constructor overloading\n",
    "# Assigning additional task to operator is called operator overloading\n",
    "\n",
    "\n",
    "\n",
    "class Test:\n",
    "    def __init__(self):\n",
    "        print(\"No argument method\")\n",
    "    def __init__(self,a):\n",
    "        print(\"One argument method: \",a)\n",
    "    def __init__(self,a,b):\n",
    "        print(\"2 argument method: \",a,b)\n",
    "t=Test(10,20)"
   ]
  },
  {
   "cell_type": "code",
   "execution_count": 23,
   "id": "0359992a-a9d4-416a-a4e8-d4fcfe7cf906",
   "metadata": {},
   "outputs": [
    {
     "name": "stdout",
     "output_type": "stream",
     "text": [
      "Constructor with 0,1,2,3 arguments None None None\n",
      "Constructor with 0,1,2,3 arguments 10 None None\n",
      "Constructor with 0,1,2,3 arguments 10 20 None\n",
      "Constructor with 0,1,2,3 arguments 10 20 30\n"
     ]
    }
   ],
   "source": [
    "#constructor overloding\n",
    "\n",
    "class Test:\n",
    "    def __init__(self,a=None,b=None,c=None):\n",
    "        print(\"Constructor with 0,1,2,3 arguments\",a,b,c)\n",
    "t = Test()\n",
    "t = Test(10)\n",
    "t = Test(10,20)\n",
    "t = Test(10,20,30)"
   ]
  },
  {
   "cell_type": "code",
   "execution_count": 29,
   "id": "dc6a3288-92bc-47a6-a462-85afeaccd44e",
   "metadata": {},
   "outputs": [
    {
     "name": "stdout",
     "output_type": "stream",
     "text": [
      "I am in class A\n",
      "I am in class B\n",
      "I am in class A\n"
     ]
    }
   ],
   "source": [
    "\n",
    "# Extending property from one class to another class is called\n",
    "# inheritance.\n",
    "# Directly we are getting here reusability concept\n",
    "# . Base class: A class which inherits its property to another is called\n",
    "# base class or parent class.\n",
    "# . Derived class: A class in which properties are inherited called as\n",
    "# derived class or child class.\n",
    "\n",
    "# Types of inheritance\n",
    "# 1. Single Inheritance\n",
    "# 2. Multilevel Inheritance\n",
    "# 3. Multiple Inheritance\n",
    "# 4. Hierarchical Inheritance\n",
    "# 5. Hybrid Inheritance\n",
    "\n",
    "#single\n",
    "class A:\n",
    "    def showA(self):\n",
    "        print(\"I am in class A\")\n",
    "class B(A):\n",
    "    def showB(self):\n",
    "        print(\"I am in class B\")\n",
    "obj=A()\n",
    "obj.showA()\n",
    "obj1=B()\n",
    "obj1.showB()\n",
    "obj1.showA()\n",
    "\n"
   ]
  },
  {
   "cell_type": "code",
   "execution_count": 33,
   "id": "cf0ffb69-b9be-471f-bf75-0390e7bbea62",
   "metadata": {},
   "outputs": [
    {
     "name": "stdout",
     "output_type": "stream",
     "text": [
      "I am in class A\n",
      "I am in class B\n",
      "I am in class C\n"
     ]
    }
   ],
   "source": [
    "#Multilevel\n",
    "\n",
    "class A:\n",
    "    def showA(self):\n",
    "        print(\"I am in class A\")\n",
    "class B(A):\n",
    "    def showB(self):\n",
    "        print(\"I am in class B\")\n",
    "class C(B):\n",
    "    def showC(self):\n",
    "        print(\"I am in class C\")\n",
    "obj1=C()\n",
    "obj1.showA()\n",
    "obj1.showB()\n",
    "obj1.showC()"
   ]
  },
  {
   "cell_type": "code",
   "execution_count": 37,
   "id": "1c3659e2-88fc-4c6c-ae7f-41f0e987c71d",
   "metadata": {},
   "outputs": [
    {
     "name": "stdout",
     "output_type": "stream",
     "text": [
      "I am in class C\n"
     ]
    }
   ],
   "source": [
    "#Multiple \n",
    "#multiple Inheritence\n",
    "class A:\n",
    "    def showA(self):\n",
    "        print(\"I am in class A\")\n",
    "\n",
    "class B:\n",
    "    def showB(self):\n",
    "        print(\"I am in class B\")\n",
    "\n",
    "class C(A, B):  # Multiple inheritance\n",
    "    def showC(self):\n",
    "        print(\"I am in class C\")\n",
    "\n",
    "obj = C()\n",
    "obj.showA()\n",
    "obj.showB()\n",
    "obj.showC()\n",
    "\n"
   ]
  },
  {
   "cell_type": "code",
   "execution_count": null,
   "id": "d3f53419-daf7-45f0-b7c4-309dbf694098",
   "metadata": {},
   "outputs": [],
   "source": [
    "#Hierarchical Inheritance\n",
    "class A:\n",
    "    def showA(self):\n",
    "        print(\"I am in class A\")\n",
    "\n",
    "class B(A):  # Inherits from A\n",
    "    def showB(self):\n",
    "        print(\"I am in class B\")\n",
    "\n",
    "class C(A):  # Inherits from A\n",
    "    def showC(self):\n",
    "        print(\"I am in class C\")\n",
    "\n",
    "obj1 = B()\n",
    "obj2 = C()\n",
    "\n",
    "obj1.showA()\n",
    "obj1.showB()\n",
    "\n",
    "obj2.showA()\n",
    "obj2.showC()"
   ]
  },
  {
   "cell_type": "code",
   "execution_count": 41,
   "id": "f6af7b99-038f-4ce9-af94-dbb81d75f6a0",
   "metadata": {},
   "outputs": [
    {
     "name": "stdout",
     "output_type": "stream",
     "text": [
      "I am in class A\n",
      "I am in class B\n",
      "I am in class C\n",
      "I am in class D\n"
     ]
    }
   ],
   "source": [
    "#Hybrid Inheritance\n",
    "class A:\n",
    "    def showA(self):\n",
    "        print(\"I am in class A\")\n",
    "\n",
    "class B(A):  # Inherits from A\n",
    "    def showB(self):\n",
    "        print(\"I am in class B\")\n",
    "\n",
    "class C(A):  # Inherits from A\n",
    "    def showC(self):\n",
    "        print(\"I am in class C\")\n",
    "\n",
    "class D(B, C):  # Multiple inheritance\n",
    "    def showD(self):\n",
    "        print(\"I am in class D\")\n",
    "\n",
    "obj = D()\n",
    "obj.showA()\n",
    "obj.showB()\n",
    "obj.showC()\n",
    "obj.showD()"
   ]
  },
  {
   "cell_type": "code",
   "execution_count": 43,
   "id": "9eb0686e-44f4-4861-8193-996a2da9b87e",
   "metadata": {},
   "outputs": [
    {
     "name": "stdout",
     "output_type": "stream",
     "text": [
      "HB\n"
     ]
    }
   ],
   "source": [
    "\n",
    "# Polymorphism\n",
    "# >Polymorphism means having many forms.\n",
    "# >We can define polymorphism as the ability of a message\n",
    "# to be displayed in more than one form.\n",
    "# Eg: A person in real world can perform many task\n",
    "\n",
    "# In shopping mall behave like customer\n",
    "#  In school behave like student\n",
    "#  In bus behave like passenger\n",
    "#  At home behave like son\n",
    "\n",
    "# Overriaing\n",
    "# if child class is not satisfied by function written in parent class then \n",
    "# child can re write that function defination\n",
    "\n",
    "class Parent:\n",
    "    def init(self):\n",
    "        print(\"Cash, Gold\")\n",
    "    def bike(self):\n",
    "        print(\"Splender+\")\n",
    "\n",
    "class Child(Parent):\n",
    "    def bike(self):\n",
    "        print(\"HB\")\n",
    "\n",
    "obj=Child()\n",
    "obj.bike()"
   ]
  },
  {
   "cell_type": "markdown",
   "id": "db1419bd-0eba-4ddd-ac41-1c863fd239ad",
   "metadata": {},
   "source": [
    "# Abstraction\r\n",
    "> hinding the unneccesary details from the user and showing essential data to the user\r\n",
    "> \r\n",
    "A class that contains one or more abstract methods is called as\r\n",
    "abstract class.\r\n",
    "An abstract method has a declaration but does not have an\r\n",
    "implementation.\r\n",
    "It allows us to create a set of methods that must be created &\r\n",
    "implemented by child classes.\r\n",
    "A method becomes abstract when decorated with the keyword\r\n",
    "@abstractmethod."
   ]
  },
  {
   "cell_type": "code",
   "execution_count": 51,
   "id": "ad1471c0-c00d-4935-aac2-8ab956bd4bfb",
   "metadata": {},
   "outputs": [
    {
     "name": "stdout",
     "output_type": "stream",
     "text": [
      "m1 method implemented\n",
      "m2 method implemented\n"
     ]
    }
   ],
   "source": [
    "#from abc import ABC, abstractmethod\n",
    "from abc import ABC, abstractmethod\n",
    "class Test(ABC):\n",
    "    @abstractmethod\n",
    "    def m1(self):\n",
    "        pass\n",
    "    @abstractmethod\n",
    "    def m2(self):\n",
    "        pass\n",
    "class MyPython(Test):\n",
    "    def m1(self):\n",
    "        print(\"m1 method implemented\")\n",
    "    def m2(self):\n",
    "        print(\"m2 method implemented\")\n",
    "\n",
    "m=MyPython()\n",
    "m.m1\n",
    "\n",
    "# from abc import ABC, abstractmethod\n",
    "# class Test(ABC):\n",
    "#   @abstractmethod\n",
    "#   def m1(self):\n",
    "#     pass\n",
    "  \n",
    "#   def m2(self):\n",
    "#     print(\"m2 method implemented\")\n",
    "\n",
    "# class MyPython(Test):\n",
    "#   @abstractmethod\n",
    "#   def m1(self):\n",
    "#     pass\n",
    "\n",
    "# class Child(MyPython):\n",
    "#   def m1(self):\n",
    "#     print(\"m1 method implementation\")\n",
    "\n",
    "# m=Child()\n",
    "# m.m1()\n",
    "# m.m2()"
   ]
  },
  {
   "cell_type": "markdown",
   "id": "7427bb99-5d12-4d69-8724-14d5a15b9797",
   "metadata": {},
   "source": [
    "#Encapsulation\n",
    ">The process of binding the data(variables) and code(methods) as a\n",
    "single unit is called encapsulation.\n",
    "\n",
    ". We are achieving this concept by declaring variables as a private\n",
    "modifier because it is possible to access private members with in\n",
    "the class only but not outside of that class.\n",
    ". A class is an example of encapsulation as it encapsulates all the\n",
    "data that is member functions and variables"
   ]
  },
  {
   "cell_type": "code",
   "execution_count": 64,
   "id": "ba534276-212e-4880-b779-91c49b7895c0",
   "metadata": {
    "scrolled": true
   },
   "outputs": [
    {
     "name": "stdout",
     "output_type": "stream",
     "text": [
      "100\n",
      "200\n",
      "300\n",
      "100\n",
      "200\n",
      "300\n",
      "100\n",
      "200\n",
      "300\n"
     ]
    }
   ],
   "source": [
    "# Encapsulation\n",
    "# Public = Protected (in python)\n",
    "# __varName (this is how priavted variable is declared in python )\n",
    "#mangling : we can access privatr data members\n",
    "\n",
    "\n",
    "#To access private variable- _Test1__a\n",
    "class Test1:\n",
    "  def __init__(self):\n",
    "    self.a=100\n",
    "    self._a=200\n",
    "    self.__a=300\n",
    "\n",
    "  def show1(self):\n",
    "    print(self.a)\n",
    "    print(self._a)\n",
    "    print(self.__a)\n",
    "\n",
    "class Test2(Test1):\n",
    "  def show2(self):\n",
    "    print(self.a)\n",
    "    print(self._a)\n",
    "    print(self._Test1__a)\n",
    "\n",
    "class Test3(Test2):\n",
    "  def show3(self):\n",
    "    print(self.a)\n",
    "    print(self._a)\n",
    "    print(self._Test1__a)\n",
    "\n",
    "obj=Test3()\n",
    "obj.show1()\n",
    "obj.show2()\n",
    "obj.show3()"
   ]
  },
  {
   "cell_type": "code",
   "execution_count": 70,
   "id": "fe179784-6e16-4a8c-8bae-eaea6547dcfe",
   "metadata": {},
   "outputs": [
    {
     "name": "stdout",
     "output_type": "stream",
     "text": [
      "Employee is working\n",
      "3000\n",
      "HR is Working\n",
      "HR Manager's salary is: 5000\n",
      "Employee added: Eren Yeager\n",
      "Showing employee details\n"
     ]
    }
   ],
   "source": [
    "\n",
    "# Write a Python program to create a class called Employee\n",
    "# with methods called work() and getSalary() (in getSalary()\n",
    "# assign salary in HRManager constructor).\n",
    "# Create a subclass called HRManager that overrides the\n",
    "# work () method and adds a new method called addEmployee().\n",
    "# showEmployee()\n",
    "class Employee:\n",
    "    def __init__(self, salary, name):\n",
    "        self.salary = salary\n",
    "        self.name = name\n",
    "\n",
    "    def work(self):\n",
    "        print(\"Employee is working\")\n",
    "\n",
    "    def getSalary(self):\n",
    "        return self.salary\n",
    "\n",
    "class HRManager(Employee):\n",
    "    def __init__(self):\n",
    "        super().__init__(5000, \"HR Manager\") \n",
    "    def work(self):\n",
    "        print(\"HR is Working\")\n",
    "\n",
    "    def getSalary(self): \n",
    "        print(f\"HR Manager's salary is: {self.salary}\")\n",
    "\n",
    "    def addEmployee(self, name):\n",
    "        print(f\"Employee added: {name}\")\n",
    "\n",
    "    def showEmployee(self):\n",
    "        print(\"Showing employee details\")\n",
    "\n",
    "# Example usage\n",
    "obj = Employee(3000, \"Levi Ackerman\")\n",
    "obj.work()                \n",
    "print(obj.getSalary()) \n",
    "obj1 = HRManager()        \n",
    "obj1.work()               \n",
    "obj1.getSalary()          \n",
    "obj1.addEmployee(\"Eren Yeager\")  \n",
    "obj1.showEmployee()\n",
    "        \n",
    "        \n",
    "        \n",
    "        "
   ]
  },
  {
   "cell_type": "code",
   "execution_count": 72,
   "id": "603150dc-51c8-4755-b1e9-092df2150d72",
   "metadata": {},
   "outputs": [
    {
     "name": "stdout",
     "output_type": "stream",
     "text": [
      "[24, 12, 8, 6]\n"
     ]
    }
   ],
   "source": [
    "arr = [1, 2, 3, 4]\n",
    "arr1 = []\n",
    "p = 1\n",
    "for i in range(len(arr)):\n",
    "    p = 1\n",
    "    for j in range(len(arr)):\n",
    "        if(arr[i] != arr[j]):\n",
    "            p = p * arr[j]\n",
    "    arr1.append(p)\n",
    "print(arr1)"
   ]
  },
  {
   "cell_type": "code",
   "execution_count": 74,
   "id": "a416f772-32a4-4999-a7d1-7776fb838557",
   "metadata": {},
   "outputs": [
    {
     "name": "stdout",
     "output_type": "stream",
     "text": [
      "Customer data has been input successfully.\n",
      "Account Number: SA123\n",
      "Customer Name: jash\n",
      "Balance: 500\n",
      "Deposited 200 to Savings Account.\n",
      "Withdrew 100 from Savings Account.\n",
      "Account Number: SA123\n",
      "Customer Name: jash\n",
      "Balance: 600\n",
      "Customer data has been input successfully.\n",
      "Account Number: CA456\n",
      "Customer Name: lkhn\n",
      "Balance: 1000\n",
      "Deposited 500 to Current Account.\n",
      "Withdrew 700 from Current Account.\n",
      "Account Number: CA456\n",
      "Customer Name: lkhn\n",
      "Balance: 800\n"
     ]
    }
   ],
   "source": [
    "# Write a python program to create an abstract class\n",
    "# BankAccount with abstract methods deposit() and\n",
    "# withdraw() and non-abstract methods inputCustData() and\n",
    "# showCustData()\n",
    "# Create subclasses: SavingsAccount and CurrentAccount\n",
    "# that extend the BankAccount class and implement the\n",
    "# respective methods to handle deposits and withdrawals\n",
    "# for each account type.\n",
    "\n",
    "from abc import ABC, abstractmethod\n",
    "\n",
    "class BankAccount(ABC):\n",
    "    def __init__(self, account_number, customer_name, balance=0):\n",
    "        self.account_number = account_number\n",
    "        self.customer_name = customer_name\n",
    "        self.balance = balance\n",
    "\n",
    "    @abstractmethod\n",
    "    def deposit(self, amount):\n",
    "        pass\n",
    "\n",
    "    @abstractmethod\n",
    "    def withdraw(self, amount):\n",
    "        pass\n",
    "\n",
    "    def inputCustData(self, account_number, customer_name, balance):\n",
    "        self.account_number = account_number\n",
    "        self.customer_name = customer_name\n",
    "        self.balance = balance\n",
    "        print(\"Customer data has been input successfully.\")\n",
    "\n",
    "    def showCustData(self):\n",
    "        print(\"Account Number:\", self.account_number)\n",
    "        print(\"Customer Name:\", self.customer_name)\n",
    "        print(\"Balance:\", self.balance)\n",
    "\n",
    "\n",
    "class SavingsAccount(BankAccount):\n",
    "    def deposit(self, amount):\n",
    "        if amount > 0:\n",
    "            self.balance += amount\n",
    "            print(f\"Deposited {amount} to Savings Account.\")\n",
    "        else:\n",
    "            print(\"Invalid deposit amount.\")\n",
    "\n",
    "    def withdraw(self, amount):\n",
    "        if 0 < amount <= self.balance:\n",
    "            self.balance -= amount\n",
    "            print(f\"Withdrew {amount} from Savings Account.\")\n",
    "        else:\n",
    "            print(\"Insufficient funds or invalid amount.\")\n",
    "\n",
    "\n",
    "class CurrentAccount(BankAccount):\n",
    "    def deposit(self, amount):\n",
    "        if amount > 0:\n",
    "            self.balance += amount\n",
    "            print(f\"Deposited {amount} to Current Account.\")\n",
    "        else:\n",
    "            print(\"Invalid deposit amount.\")\n",
    "\n",
    "    def withdraw(self, amount):\n",
    "        if 0 < amount <= self.balance:\n",
    "            self.balance -= amount\n",
    "            print(f\"Withdrew {amount} from Current Account.\")\n",
    "        else:\n",
    "            print(\"Insufficient funds or invalid amount.\")\n",
    "\n",
    "\n",
    "# Example usage:\n",
    "# Input customer data\n",
    "savings = SavingsAccount(\"SA123\", \"krushna\", 500)\n",
    "savings.inputCustData(\"SA123\", \"jash\", 500)\n",
    "savings.showCustData()\n",
    "\n",
    "# Perform deposit and withdrawal\n",
    "savings.deposit(200)\n",
    "savings.withdraw(100)\n",
    "savings.showCustData()\n",
    "\n",
    "# Current Account Example\n",
    "current = CurrentAccount(\"CA456\", \"lkhn\", 1000)\n",
    "current.inputCustData(\"CA456\", \"lkhn\", 1000)\n",
    "current.showCustData()\n",
    "\n",
    "current.deposit(500)\n",
    "current.withdraw(700)\n",
    "current.showCustData()\n",
    "\n"
   ]
  },
  {
   "cell_type": "code",
   "execution_count": 76,
   "id": "b625f2f4-9588-4f0f-afb0-cf039cb166ff",
   "metadata": {},
   "outputs": [
    {
     "name": "stdout",
     "output_type": "stream",
     "text": [
      "Account S123 approved for John Doe\n",
      "Account B123 approved for John Doe\n",
      "Deposited 200. New balance: 1200\n",
      "Applied interest: 60.0. New balance: 1260.0\n",
      "Withdrew 150. New balance: 1110.0\n",
      "Deposited 500. New balance: 5500\n",
      "Withdrew 6000. New balance: -500\n",
      "Account Number: S123\n",
      "Balance: 1110.0\n",
      "Owner: John Doe\n",
      "Account Number: B123\n",
      "Balance: -500\n",
      "Owner: John Doe\n"
     ]
    }
   ],
   "source": [
    "from abc import ABC, abstractmethod\n",
    "\n",
    "# Define the Person class\n",
    "class Person:\n",
    "    def __init__(self, name, address, phone):\n",
    "        self.name = name\n",
    "        self.address = address\n",
    "        self.phone = phone\n",
    "\n",
    "    def get_details(self):\n",
    "        print(\"Name:\", self.name)\n",
    "        print(\"Address:\", self.address)\n",
    "        print(\"Phone:\", self.phone)\n",
    "\n",
    "\n",
    "# Define the Account abstract class\n",
    "class Account(ABC):\n",
    "    def __init__(self, account_number, balance, owner):\n",
    "        self.account_number = account_number\n",
    "        self.balance = balance\n",
    "        self.owner = owner\n",
    "\n",
    "    @abstractmethod\n",
    "    def deposit(self, amount):\n",
    "        pass\n",
    "\n",
    "    @abstractmethod\n",
    "    def withdraw(self, amount):\n",
    "        pass\n",
    "\n",
    "    def get_balance(self):\n",
    "        print(\"Total Balance:\", self.balance)\n",
    "\n",
    "    def show_account_details(self):\n",
    "        print(\"Account Number:\", self.account_number)\n",
    "        print(\"Balance:\", self.balance)\n",
    "        print(\"Owner:\", self.owner.name)\n",
    "\n",
    "\n",
    "# Define Customer class that inherits from Person\n",
    "class Customer(Person):\n",
    "    def __init__(self, name, address, phone):\n",
    "        super().__init__(name, address, phone)\n",
    "        self.accounts = []\n",
    "\n",
    "    def add_account(self, account):\n",
    "        self.accounts.append(account)\n",
    "\n",
    "    def remove_account(self, account_number):\n",
    "        self.accounts = [acc for acc in self.accounts if acc.account_number != account_number]\n",
    "\n",
    "    def get_accounts_summary(self):\n",
    "        for account in self.accounts:\n",
    "            account.show_account_details()\n",
    "\n",
    "\n",
    "# Define the SavingsAccount class that inherits from Account\n",
    "class SavingsAccount(Account):\n",
    "    def __init__(self, account_number, balance, owner, interest_rate):\n",
    "        super().__init__(account_number, balance, owner)\n",
    "        self.interest_rate = interest_rate\n",
    "\n",
    "    def deposit(self, amount):\n",
    "        self.balance += amount\n",
    "        print(f\"Deposited {amount}. New balance: {self.balance}\")\n",
    "\n",
    "    def withdraw(self, amount):\n",
    "        if amount > self.balance:\n",
    "            print(\"Insufficient funds\")\n",
    "        else:\n",
    "            self.balance -= amount\n",
    "            print(f\"Withdrew {amount}. New balance: {self.balance}\")\n",
    "\n",
    "    def apply_interest(self):\n",
    "        interest = self.balance * self.interest_rate\n",
    "        self.balance += interest\n",
    "        print(f\"Applied interest: {interest}. New balance: {self.balance}\")\n",
    "\n",
    "\n",
    "# Define the BusinessAccount class that inherits from Account\n",
    "class BusinessAccount(Account):\n",
    "    def __init__(self, account_number, balance, owner, overdraft_limit):\n",
    "        super().__init__(account_number, balance, owner)\n",
    "        self.overdraft_limit = overdraft_limit\n",
    "\n",
    "    def deposit(self, amount):\n",
    "        self.balance += amount\n",
    "        print(f\"Deposited {amount}. New balance: {self.balance}\")\n",
    "\n",
    "    def withdraw(self, amount):\n",
    "        if amount > self.balance + self.overdraft_limit:\n",
    "            print(\"Withdrawal amount exceeds overdraft limit\")\n",
    "        else:\n",
    "            self.balance -= amount\n",
    "            print(f\"Withdrew {amount}. New balance: {self.balance}\")\n",
    "\n",
    "\n",
    "# Define the Admin class that inherits from Person\n",
    "class Admin(Person):\n",
    "    def __init__(self, name, address, phone, employee_id):\n",
    "        super().__init__(name, address, phone)\n",
    "        self.employee_id = employee_id\n",
    "\n",
    "    def approve_account(self, customer, account):\n",
    "        customer.add_account(account)\n",
    "        print(f\"Account {account.account_number} approved for {customer.name}\")\n",
    "\n",
    "    def view_all_customers(self, bank):\n",
    "        for customer in bank.customers:\n",
    "            customer.get_details()\n",
    "            customer.get_accounts_summary()\n",
    "\n",
    "\n",
    "# Define the Bank class\n",
    "class Bank:\n",
    "    def __init__(self):\n",
    "        self.customers = []\n",
    "        self.admins = []\n",
    "\n",
    "    def create_customer_account(self, customer, account):\n",
    "        customer.add_account(account)\n",
    "        self.customers.append(customer)\n",
    "\n",
    "    def delete_customer_account(self, account_number):\n",
    "        for customer in self.customers:\n",
    "            customer.remove_account(account_number)\n",
    "\n",
    "    def view_transaction_history(self, account_number):\n",
    "        for customer in self.customers:\n",
    "            for account in customer.accounts:\n",
    "                if account.account_number == account_number:\n",
    "                    account.show_account_details()\n",
    "\n",
    "    def find_customer_by_account(self, account_number):\n",
    "        for customer in self.customers:\n",
    "            for account in customer.accounts:\n",
    "                if account.account_number == account_number:\n",
    "                    return customer\n",
    "        return None\n",
    "\n",
    "\n",
    "# Sample usage\n",
    "customer = Customer(\"John Doe\", \"123 Main St\", \"555-1234\")\n",
    "savings_account = SavingsAccount(\"S123\", 1000, customer, 0.05)\n",
    "business_account = BusinessAccount(\"B123\", 5000, customer, 1000)\n",
    "\n",
    "admin = Admin(\"Alice\", \"Bank HQ\", \"555-5678\", \"A001\")\n",
    "bank = Bank()\n",
    "\n",
    "admin.approve_account(customer, savings_account)\n",
    "admin.approve_account(customer, business_account)\n",
    "\n",
    "savings_account.deposit(200)\n",
    "savings_account.apply_interest()\n",
    "savings_account.withdraw(150)\n",
    "\n",
    "business_account.deposit(500)\n",
    "business_account.withdraw(6000)  # Testing overdraft limit\n",
    "\n",
    "# Displaying customer account details\n",
    "customer.get_accounts_summary()\n"
   ]
  },
  {
   "cell_type": "code",
   "execution_count": 80,
   "id": "f19501c7-fb40-4c65-8326-470746ca9230",
   "metadata": {},
   "outputs": [
    {
     "name": "stdout",
     "output_type": "stream",
     "text": [
      "4\n"
     ]
    }
   ],
   "source": [
    "#consecutive 1's in binary array\n",
    "a = [1,1,0,1,1,1,0,1,1,1,1]\n",
    "count=0\n",
    "max=0\n",
    "for i in a:\n",
    "    if i==1:\n",
    "        count=count+1\n",
    "        if count>max:\n",
    "            max = count\n",
    "    else:\n",
    "        count=0\n",
    "\n",
    "print(max)"
   ]
  },
  {
   "cell_type": "code",
   "execution_count": null,
   "id": "3566a538-a83b-48f6-9570-3701e5df8e30",
   "metadata": {},
   "outputs": [],
   "source": [
    "#split list into chuks of a given size:\n",
    "list=[1,2,3,4,5,6,7,8]\n",
    "chunk_size=5\n",
    "ans=[]\n",
    "chunk_arr=[]\n",
    "count=0\n",
    "for i in list:\n",
    "    if count<chunk_size:\n",
    "        chunk_arr.append(i)\n",
    "        count+=1\n",
    "    if count==chunk_size:\n",
    "        ans.append(chunk_arr)\n",
    "        chunk_arr=[]\n",
    "        count=0\n",
    "if chunk_arr:\n",
    "    ans.append(chunk_arr)\n",
    "print(ans)\n",
    "    \n",
    "    "
   ]
  },
  {
   "cell_type": "code",
   "execution_count": 1,
   "id": "9e4d0b3f-8b4c-4f32-954a-30b4a06fd4ba",
   "metadata": {},
   "outputs": [
    {
     "name": "stdout",
     "output_type": "stream",
     "text": [
      "Yes\n"
     ]
    }
   ],
   "source": [
    "# Automorphic Number\n",
    "\n",
    "n = 76\n",
    "sq = n*n\n",
    "temp=sq\n",
    "f = False\n",
    "while(n>0):\n",
    "    if n%10 == temp%10:\n",
    "        f = True\n",
    "    else:\n",
    "        f = False\n",
    "        break\n",
    "    n=n//10\n",
    "    temp=temp//10\n",
    "\n",
    "if f == True:\n",
    "    print(\"Yes\")\n",
    "else:\n",
    "    print(\"No\")"
   ]
  },
  {
   "cell_type": "code",
   "execution_count": null,
   "id": "43825bb3-2100-4ba2-a612-b6b9cf3f1324",
   "metadata": {},
   "outputs": [],
   "source": [
    "num=25\n",
    "sq=num**2\n",
    "sq_str=str(sq)\n",
    "num_str=str(num)  \n",
    "if sq_str[-len(num_str):]==num_str:\n",
    "    print(\"Yes\")\n",
    "else:\n",
    "    print(\"No\")"
   ]
  }
 ],
 "metadata": {
  "kernelspec": {
   "display_name": "Python 3 (ipykernel)",
   "language": "python",
   "name": "python3"
  },
  "language_info": {
   "codemirror_mode": {
    "name": "ipython",
    "version": 3
   },
   "file_extension": ".py",
   "mimetype": "text/x-python",
   "name": "python",
   "nbconvert_exporter": "python",
   "pygments_lexer": "ipython3",
   "version": "3.12.4"
  }
 },
 "nbformat": 4,
 "nbformat_minor": 5
}
