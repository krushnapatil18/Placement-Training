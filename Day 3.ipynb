{
 "cells": [
  {
   "cell_type": "code",
   "execution_count": 54,
   "id": "35cbe6a0-c94b-4130-9c62-116e1e77502c",
   "metadata": {},
   "outputs": [
    {
     "name": "stdout",
     "output_type": "stream",
     "text": [
      "9\n"
     ]
    }
   ],
   "source": [
    "#Finding missing nos in array\n",
    "a = [6,1,2,8,3,4,7,10,5]\n",
    "a.sort()\n",
    "for i in range(len(a)-1):\n",
    "    if(a[i]+1!=a[i+1]):\n",
    "        print(a[i]+1)\n",
    "        break"
   ]
  },
  {
   "cell_type": "code",
   "execution_count": 80,
   "id": "4f8b841a-7780-42e4-9c36-eb72df8d3d99",
   "metadata": {},
   "outputs": [
    {
     "name": "stdout",
     "output_type": "stream",
     "text": [
      "Hello\n"
     ]
    }
   ],
   "source": [
    "#Main Function in Python\n",
    "#Main function has main thread\n",
    "def show():\n",
    "    print(\"Hello\")\n",
    "    \n",
    "if __name__ == '__main__':\n",
    "    show()"
   ]
  },
  {
   "cell_type": "code",
   "execution_count": 82,
   "id": "35699b80-1cd3-4183-8962-7acf7d500184",
   "metadata": {},
   "outputs": [],
   "source": [
    "# FUNCTIONS : re-usability of code\n",
    "\n",
    "# If a group of statements is repeatedly required then it is not\n",
    "# recommended to write these\n",
    "# statements everytime seperately. We have to define these\n",
    "# statements as a single unit and\n",
    "# we can call that unit any number of times based on our\n",
    "# requirement without rewriting.\n",
    "# This unit is nothing but function.\n",
    "# The main advantage of functions is code Reusability.\n",
    "\n",
    "# 1. Built in Functions:\n",
    "# The functions which are coming along with Python software\n",
    "# automatically, are called built in functions or pre defined function\n",
    "\n",
    "# id()\n",
    "# type()\n",
    "# input()\n",
    "# eval()\n",
    "\n",
    "# 2. User Defined Functions:\n",
    "# The functions which are developed by programmer explicitly\n",
    "# according to business."
   ]
  },
  {
   "cell_type": "code",
   "execution_count": 70,
   "id": "37e3a88a-7245-4ccf-965f-ff33efeb9726",
   "metadata": {},
   "outputs": [
    {
     "name": "stdin",
     "output_type": "stream",
     "text": [
      "Enter value of a:  4\n",
      "Enter value of b:  6\n"
     ]
    },
    {
     "name": "stdout",
     "output_type": "stream",
     "text": [
      "ans:  10\n"
     ]
    }
   ],
   "source": [
    "#Addition of 2 numbers using 2 functions\n",
    "\n",
    "def add():\n",
    "    a = int(input(\"Enter value of a: \"))\n",
    "    b = int(input(\"Enter value of b: \"))\n",
    "    res = a+b\n",
    "    print(\"ans: \",res)\n",
    "\n",
    "add()"
   ]
  },
  {
   "cell_type": "code",
   "execution_count": 78,
   "id": "804dc3a2-c8d0-4813-a35f-9b3920287a18",
   "metadata": {},
   "outputs": [
    {
     "name": "stdin",
     "output_type": "stream",
     "text": [
      "Enter value of a:  3\n",
      "Enter value of b:  6\n"
     ]
    },
    {
     "name": "stdout",
     "output_type": "stream",
     "text": [
      "ans:  9\n"
     ]
    }
   ],
   "source": [
    "#Function using arguments\n",
    "def add(a,b):\n",
    "    res = a+b\n",
    "    print(\"ans: \",res)\n",
    "\n",
    "if __name__ == '__main__':\n",
    "    a = int(input(\"Enter value of a: \"))\n",
    "    b = int(input(\"Enter value of b: \"))\n",
    "    add(a,b)"
   ]
  },
  {
   "cell_type": "code",
   "execution_count": 86,
   "id": "151e7913-bbe0-4211-ada8-b1f18542c7b3",
   "metadata": {},
   "outputs": [
    {
     "name": "stdin",
     "output_type": "stream",
     "text": [
      "Enter value of a:  3\n",
      "Enter value of b:  5\n"
     ]
    },
    {
     "name": "stdout",
     "output_type": "stream",
     "text": [
      "addition:  8\n",
      "substraction:  -2\n",
      "multiplication:  15\n",
      "division:  0.6\n"
     ]
    }
   ],
   "source": [
    "#Function with multiple return values\n",
    "def add(a,b):\n",
    "    res1 = a+b\n",
    "    res2 = a-b\n",
    "    res3 = a*b\n",
    "    res4 = a/b\n",
    "    return res1,res2,res3,res4\n",
    "\n",
    "if __name__ == '__main__':\n",
    "    a = int(input(\"Enter value of a: \"))\n",
    "    b = int(input(\"Enter value of b: \"))\n",
    "    r1,r2,r3,r4 = add(a,b)\n",
    "    print(\"addition: \",r1)\n",
    "    print(\"substraction: \",r2)\n",
    "    print(\"multiplication: \",r3)\n",
    "    print(\"division: \",r4)"
   ]
  },
  {
   "cell_type": "code",
   "execution_count": 91,
   "id": "b5ed4a29-99a9-44ad-a3cf-eec882b1f0a9",
   "metadata": {},
   "outputs": [],
   "source": [
    "# Variable length arguments:\n",
    "\n",
    "# Sometimes we can pass variable number of arguments to our\n",
    "# function, such type of\n",
    "# arguments are called variable length arguments.\n",
    "\n",
    "# We can declare a variable length argument with * symbol as\n",
    "# follows\n",
    "\n",
    "# def f1(*n):\n",
    "\n",
    "# We can call this function by passing any number of arguments\n",
    "# including zero number.\n",
    "# Internally all these values represented in the form of tuple.\n",
    "\n",
    "#Note: Python does not support overloading"
   ]
  },
  {
   "cell_type": "code",
   "execution_count": 97,
   "id": "e3dd1a8f-75a4-4fb2-b170-6640c6b8e2d4",
   "metadata": {},
   "outputs": [
    {
     "name": "stdout",
     "output_type": "stream",
     "text": [
      "The Sum= 10\n",
      "The Sum= 30\n",
      "The Sum= 305\n"
     ]
    }
   ],
   "source": [
    "def sum(*n):\n",
    "    total=0\n",
    "    for n1 in n:\n",
    "        total=total+n1\n",
    "    print(\"The Sum=\",total)\n",
    "\n",
    "sum(10)\n",
    "sum(10,20)\n",
    "sum(10,20,22,66,99,88)"
   ]
  },
  {
   "cell_type": "code",
   "execution_count": 99,
   "id": "5735bcc5-79af-4be3-8c76-e99d31b8e2d1",
   "metadata": {},
   "outputs": [
    {
     "name": "stdin",
     "output_type": "stream",
     "text": [
      "Enter any Number:  4\n"
     ]
    },
    {
     "name": "stdout",
     "output_type": "stream",
     "text": [
      "24\n"
     ]
    }
   ],
   "source": [
    "#Recursion\n",
    "\n",
    "def factorial(n):\n",
    "  if n == 0:\n",
    "    return 1\n",
    "  else:\n",
    "    return n * factorial(n-1)\n",
    "n = int(input(\"Enter any Number: \"))\n",
    "res = factorial(n)\n",
    "print(res)"
   ]
  },
  {
   "cell_type": "code",
   "execution_count": 101,
   "id": "2047beb2-3dd6-435f-8775-db771633a4cc",
   "metadata": {},
   "outputs": [
    {
     "name": "stdout",
     "output_type": "stream",
     "text": [
      "12\n"
     ]
    }
   ],
   "source": [
    "#Multiplication using recursion\n",
    "\n",
    "def mul(x,y):\n",
    "    if x==1:\n",
    "        return y\n",
    "    elif y==1:\n",
    "        return x\n",
    "    elif x==0 or y==0:\n",
    "        return 0\n",
    "    else:\n",
    "        return x+mul(x,y-1)\n",
    "\n",
    "print(mul(3,4))"
   ]
  },
  {
   "cell_type": "code",
   "execution_count": 109,
   "id": "965e0b54-5e55-453b-b85c-133d0dcc1148",
   "metadata": {},
   "outputs": [
    {
     "name": "stdout",
     "output_type": "stream",
     "text": [
      "9\n"
     ]
    }
   ],
   "source": [
    "#Lambda function\n",
    "\n",
    "def square(n):\n",
    "    return n*n\n",
    "\n",
    "s = lambda n:n*n\n",
    "\n",
    "print(s(3))"
   ]
  },
  {
   "cell_type": "code",
   "execution_count": 113,
   "id": "d3a00f3e-b2a7-4155-bb28-afd966829415",
   "metadata": {},
   "outputs": [
    {
     "name": "stdout",
     "output_type": "stream",
     "text": [
      "7\n"
     ]
    }
   ],
   "source": [
    "add = lambda a,b:a+b\n",
    "print(add(3,4))"
   ]
  },
  {
   "cell_type": "code",
   "execution_count": 117,
   "id": "e0d58b9b-d2d6-4e55-b8f3-1988aad4e6fb",
   "metadata": {},
   "outputs": [
    {
     "name": "stdout",
     "output_type": "stream",
     "text": [
      "55\n"
     ]
    }
   ],
   "source": [
    "#If else in lambda function\n",
    "\n",
    "max = lambda x,y: x if(x>y) else y\n",
    "print(max(34,55))"
   ]
  },
  {
   "cell_type": "code",
   "execution_count": 121,
   "id": "93160c91-19a3-4104-b69e-d10f608c89a9",
   "metadata": {},
   "outputs": [
    {
     "name": "stdout",
     "output_type": "stream",
     "text": [
      "[2, 4]\n"
     ]
    }
   ],
   "source": [
    "#intersection \n",
    "\n",
    "n1 = [1,2,4,5]\n",
    "n2 = [2,3,4]\n",
    "ans = []\n",
    "for i in  n1:\n",
    "    if i in n2:\n",
    "        ans.append(i)\n",
    "\n",
    "print(ans)"
   ]
  },
  {
   "cell_type": "code",
   "execution_count": 139,
   "id": "f15473be-5c8a-43ff-af46-99fb9c18eec6",
   "metadata": {},
   "outputs": [
    {
     "name": "stdout",
     "output_type": "stream",
     "text": [
      "[[1, 3], [4, 6]]\n"
     ]
    }
   ],
   "source": [
    "n1 = [1,2,3]\n",
    "n2 = [2,4,6]\n",
    "fans = []\n",
    "ans1=[]\n",
    "ans2=[]\n",
    "for i in n1:\n",
    "    if i not in n2:\n",
    "        ans1.append(i)\n",
    "for i in n2:\n",
    "    if i not in n1:\n",
    "        ans2.append(i)\n",
    "fans = [ans1,ans2]\n",
    "print(fans)\n",
    "    \n"
   ]
  },
  {
   "cell_type": "code",
   "execution_count": 174,
   "id": "7b802275-5c22-4f58-92aa-9c4a9eb4ab21",
   "metadata": {},
   "outputs": [
    {
     "name": "stdout",
     "output_type": "stream",
     "text": [
      "[4, 5, 1, 2, 3]\n"
     ]
    }
   ],
   "source": [
    "#Rotating array by k\n",
    "\n",
    "arr = [1,2,3,4,5]\n",
    "\n",
    "# ans = []\n",
    "\n",
    "k = 2\n",
    "\n",
    "# for j in range(len(a)-k,len(a)):\n",
    "#     ans.append(a[j])\n",
    "# for i in range(len(a)-k):\n",
    "#     ans.append(a[i])\n",
    "# print(ans)\n",
    "\n",
    "for i in range(k):\n",
    "    temp = arr[-1]\n",
    "    for j in range(len(arr)-1,-1,-1):\n",
    "        arr[j]=arr[j-1]\n",
    "    arr[0]=temp\n",
    "\n",
    "print(arr)\n"
   ]
  },
  {
   "cell_type": "code",
   "execution_count": 186,
   "id": "688563f8-f836-4f51-9c15-83affbb136c4",
   "metadata": {},
   "outputs": [
    {
     "name": "stdout",
     "output_type": "stream",
     "text": [
      "[-1, 2, -3, 4, -6, 5]\n"
     ]
    }
   ],
   "source": [
    "# Rearrange positive and negative numbers\n",
    "\n",
    "arr = [-1,2,-3,4,5,-6]\n",
    "p = []\n",
    "n = []\n",
    "ans = []\n",
    "\n",
    "# for i in range(len(arr)):\n",
    "#     if(i%2==0 and arr[i]>0):\n",
    "#         arr[i] = arr[i]*(-1)\n",
    "#     elif(i%2==1 and arr[i]<0):\n",
    "#         arr[i] = arr[i]*(-1)\n",
    "\n",
    "for i in range(len(arr)):\n",
    "    if arr[i]<0:\n",
    "        n.append(arr[i])\n",
    "    else:\n",
    "        p.append(arr[i])\n",
    "\n",
    "for i in range(len(n)):\n",
    "    ans.append(n[i])\n",
    "    ans.append(p[i])\n",
    "print(ans)\n"
   ]
  },
  {
   "cell_type": "code",
   "execution_count": 208,
   "id": "b70639d5-0c31-4c11-9713-99fcde88d61c",
   "metadata": {},
   "outputs": [
    {
     "name": "stdout",
     "output_type": "stream",
     "text": [
      "[1, 2, 3, 4]\n"
     ]
    }
   ],
   "source": [
    "arr = [1,2,3,4,6,7,8]\n",
    "arr.sort()\n",
    "ans = []\n",
    "for i in range(len(arr)):\n",
    "    if arr[i] == arr[i+1]-1:\n",
    "        ans.append(arr[i])\n",
    "    else:\n",
    "        ans.append(arr[i])\n",
    "        break\n",
    "print(ans)"
   ]
  },
  {
   "cell_type": "code",
   "execution_count": 230,
   "id": "156e1708-98c0-4f26-8619-f729ddd0c37b",
   "metadata": {},
   "outputs": [
    {
     "name": "stdin",
     "output_type": "stream",
     "text": [
      "Enter n:  2\n",
      "Enter x:  2\n"
     ]
    },
    {
     "name": "stdout",
     "output_type": "stream",
     "text": [
      "5.0\n"
     ]
    }
   ],
   "source": [
    "# Find sum of following series.\n",
    "# sum= 1 + x/1 + x^2/2 + x^3/3 + .. + x^n/n\n",
    "\n",
    "\n",
    "\n",
    "n = int(input(\"Enter n: \"))\n",
    "x = int(input(\"Enter x: \"))\n",
    "sum = 1\n",
    "for i in range(1,n+1):\n",
    "    sum = sum + ((x**i)/i)\n",
    "print(sum)"
   ]
  },
  {
   "cell_type": "code",
   "execution_count": 238,
   "id": "e63b68b1-deb6-40c3-9bf1-686cfc32bd2b",
   "metadata": {},
   "outputs": [
    {
     "name": "stdin",
     "output_type": "stream",
     "text": [
      "Enter n:  2\n",
      "Enter x:  2\n"
     ]
    },
    {
     "name": "stdout",
     "output_type": "stream",
     "text": [
      "5.0\n"
     ]
    }
   ],
   "source": [
    "# Find sum of following series.\n",
    "# sum= 1 + x/1! + x^2/2! + x^3/3! + ... + x^n/n!\n",
    "\n",
    "def fact(n):\n",
    "    f=1\n",
    "    for i in range(1,n+1):\n",
    "        f = f * i\n",
    "    return f\n",
    "\n",
    "n = int(input(\"Enter n: \"))\n",
    "x = int(input(\"Enter x: \"))\n",
    "sum = 1\n",
    "for i in range(1,n+1):\n",
    "    sum = sum + ((x**i)/fact(i))\n",
    "print(sum)"
   ]
  },
  {
   "cell_type": "code",
   "execution_count": 256,
   "id": "cf03f18a-c7fb-426d-8d37-089d1e016492",
   "metadata": {},
   "outputs": [
    {
     "name": "stdout",
     "output_type": "stream",
     "text": [
      "2\n"
     ]
    }
   ],
   "source": [
    "a = [3,4,-1,1]\n",
    "a.sort() # -1 1 3 4 \n",
    "for i in range(len(a)):\n",
    "    if(a[i]<0):\n",
    "        pass\n",
    "    else:\n",
    "        if (arr[i]!=i):\n",
    "            print(i+1)\n",
    "            break\n",
    "        "
   ]
  },
  {
   "cell_type": "code",
   "execution_count": null,
   "id": "3ab12f2a-85cb-448e-ad8a-03157b3eaa32",
   "metadata": {},
   "outputs": [],
   "source": []
  },
  {
   "cell_type": "code",
   "execution_count": null,
   "id": "b788f641-4e91-445e-bd56-0dcccc87e42f",
   "metadata": {},
   "outputs": [],
   "source": []
  }
 ],
 "metadata": {
  "kernelspec": {
   "display_name": "Python 3 (ipykernel)",
   "language": "python",
   "name": "python3"
  },
  "language_info": {
   "codemirror_mode": {
    "name": "ipython",
    "version": 3
   },
   "file_extension": ".py",
   "mimetype": "text/x-python",
   "name": "python",
   "nbconvert_exporter": "python",
   "pygments_lexer": "ipython3",
   "version": "3.12.4"
  }
 },
 "nbformat": 4,
 "nbformat_minor": 5
}
