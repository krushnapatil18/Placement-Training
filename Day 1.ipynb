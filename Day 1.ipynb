{
 "cells": [
  {
   "cell_type": "code",
   "execution_count": 27,
   "id": "855c0d03-d70b-48e6-ba17-6d499772dd4e",
   "metadata": {},
   "outputs": [
    {
     "data": {
      "text/plain": [
       "(complex, (13+8j))"
      ]
     },
     "execution_count": 27,
     "metadata": {},
     "output_type": "execute_result"
    }
   ],
   "source": [
    "a=10+3j\n",
    "b=3+5j\n",
    "type(a),a+b"
   ]
  },
  {
   "cell_type": "code",
   "execution_count": 17,
   "id": "1cd815a3-cf34-469c-b299-fb57390c0b22",
   "metadata": {},
   "outputs": [
    {
     "data": {
      "text/plain": [
       "140726209624792"
      ]
     },
     "execution_count": 17,
     "metadata": {},
     "output_type": "execute_result"
    }
   ],
   "source": [
    "id(a)"
   ]
  },
  {
   "cell_type": "code",
   "execution_count": 35,
   "id": "107cf598-c4b8-4c6a-88f8-0c17259b840c",
   "metadata": {},
   "outputs": [
    {
     "data": {
      "text/plain": [
       "' asdasaf\\nfdsfsdf\\nsdfsdfsdfsdf\\nsdfsfsdfdsf'"
      ]
     },
     "execution_count": 35,
     "metadata": {},
     "output_type": "execute_result"
    }
   ],
   "source": [
    "#MultiLine Strings\n",
    "x = ''' asdasaf\n",
    "fdsfsdf\n",
    "sdfsdfsdfsdf\n",
    "sdfsfsdfdsf'''\n",
    "x"
   ]
  },
  {
   "cell_type": "code",
   "execution_count": 37,
   "id": "1120e926-8a15-48b2-bbc8-35475715025f",
   "metadata": {},
   "outputs": [
    {
     "data": {
      "text/plain": [
       "3"
      ]
     },
     "execution_count": 37,
     "metadata": {},
     "output_type": "execute_result"
    }
   ],
   "source": [
    "#Int Function\n",
    "int(3.45)"
   ]
  },
  {
   "cell_type": "code",
   "execution_count": 51,
   "id": "07cceffc-ad31-440b-b44c-84b11696a7cd",
   "metadata": {},
   "outputs": [
    {
     "data": {
      "text/plain": [
       "(5.6, 5.0)"
      ]
     },
     "execution_count": 51,
     "metadata": {},
     "output_type": "execute_result"
    }
   ],
   "source": [
    "#Float Function\n",
    "float(\"5.6\"), float(5)\n"
   ]
  },
  {
   "cell_type": "code",
   "execution_count": 45,
   "id": "8888210d-0217-44eb-af99-35f6a87a2e3a",
   "metadata": {},
   "outputs": [
    {
     "data": {
      "text/plain": [
       "((5+3j), (4+0j), (1+0j))"
      ]
     },
     "execution_count": 45,
     "metadata": {},
     "output_type": "execute_result"
    }
   ],
   "source": [
    "#Complex Function\n",
    "a=5\n",
    "b=3\n",
    "complex(a,b), complex(4), complex(True)"
   ]
  },
  {
   "cell_type": "code",
   "execution_count": 59,
   "id": "e29d1cbc-7c09-4296-ae8e-4b74120e05a7",
   "metadata": {},
   "outputs": [
    {
     "name": "stdout",
     "output_type": "stream",
     "text": [
      "True\n",
      "False\n",
      "False\n",
      "True\n"
     ]
    }
   ],
   "source": [
    "x = \"Hello learning python is very easy\"\n",
    "print('Hello' in x)\n",
    "print('hello' in x)\n",
    "print('d' in x)\n",
    "print('d' not in x)"
   ]
  },
  {
   "cell_type": "code",
   "execution_count": 67,
   "id": "821c9cb0-7c8c-4eed-b415-30e51ff94f45",
   "metadata": {},
   "outputs": [
    {
     "name": "stdout",
     "output_type": "stream",
     "text": [
      "True\n",
      "False\n",
      "True\n"
     ]
    }
   ],
   "source": [
    "list1 = [\"ashish\",\"lakhan\",\"ayush\"]\n",
    "print('ashish' in list1)\n",
    "print('krushna' in list1)\n",
    "print('krushna' not in list1)"
   ]
  },
  {
   "cell_type": "code",
   "execution_count": 73,
   "id": "aa96dca5-e385-4087-b131-465b999aa79c",
   "metadata": {},
   "outputs": [
    {
     "name": "stdout",
     "output_type": "stream",
     "text": [
      "area of circle is 78.53981633974483\n",
      "4.0\n"
     ]
    }
   ],
   "source": [
    "import math\n",
    "r = 5\n",
    "area = math.pi * (r**2)\n",
    "print(\"area of circle is\" , area)\n",
    "print(math.sqrt(16))"
   ]
  },
  {
   "cell_type": "code",
   "execution_count": 75,
   "id": "295ab0ad-2c00-47ec-ae84-4bb526f92747",
   "metadata": {},
   "outputs": [
    {
     "name": "stdin",
     "output_type": "stream",
     "text": [
      "Enter a 11\n",
      "Enter b 22\n"
     ]
    },
    {
     "name": "stdout",
     "output_type": "stream",
     "text": [
      "1122\n"
     ]
    }
   ],
   "source": [
    "a = input(\"Enter a\")\n",
    "b = input(\"Enter b\")\n",
    "print(a+b)"
   ]
  },
  {
   "cell_type": "code",
   "execution_count": 77,
   "id": "5bcbf85f-303e-4b0e-ae54-2d43fe74cc8a",
   "metadata": {},
   "outputs": [
    {
     "name": "stdin",
     "output_type": "stream",
     "text": [
      "Enter a 11\n",
      "Enter b 22\n"
     ]
    },
    {
     "name": "stdout",
     "output_type": "stream",
     "text": [
      "33\n"
     ]
    }
   ],
   "source": [
    "a = int(input(\"Enter a\"))\n",
    "b = int(input(\"Enter b\"))\n",
    "print(a+b)"
   ]
  },
  {
   "cell_type": "code",
   "execution_count": 79,
   "id": "6406909f-4b1c-4780-8824-fc31d3fb2da4",
   "metadata": {},
   "outputs": [
    {
     "name": "stdin",
     "output_type": "stream",
     "text": [
      "Enter a 33\n",
      "Enter b 65\n"
     ]
    },
    {
     "name": "stdout",
     "output_type": "stream",
     "text": [
      "addition is 98\n"
     ]
    }
   ],
   "source": [
    "print(\"addition is\" , int(input(\"Enter a\"))+int(input(\"Enter b\")))"
   ]
  },
  {
   "cell_type": "code",
   "execution_count": 87,
   "id": "0bea1406-b40f-4cf0-9bde-b9fe4fe30e75",
   "metadata": {},
   "outputs": [
    {
     "name": "stdin",
     "output_type": "stream",
     "text": [
      "Enter any  33+24-13/43+23*43\n"
     ]
    },
    {
     "name": "stdout",
     "output_type": "stream",
     "text": [
      "1045.6976744186047\n"
     ]
    }
   ],
   "source": [
    "a = eval(input(\"Enter any \"))\n",
    "print(a)"
   ]
  },
  {
   "cell_type": "code",
   "execution_count": 99,
   "id": "82703a52-3662-4843-87c6-ab29e0a1288e",
   "metadata": {},
   "outputs": [
    {
     "name": "stdout",
     "output_type": "stream",
     "text": [
      "Hello \n",
      " world\n",
      "Hello \t world\n",
      "helloworld\n",
      "hello hello hello hello \n"
     ]
    }
   ],
   "source": [
    "#Escape Sequence Operators \\n and \\t and %\n",
    "print(\"Hello \\n world\")\n",
    "print(\"Hello \\t world\")\n",
    "print(\"hello\"+\"world\")\n",
    "print(\"hello \"*4)"
   ]
  },
  {
   "cell_type": "code",
   "execution_count": 103,
   "id": "fe4df422-01d9-41f2-bb70-13bf173aebf3",
   "metadata": {},
   "outputs": [
    {
     "name": "stdout",
     "output_type": "stream",
     "text": [
      "10 20 30\n",
      "10:20:30\n"
     ]
    }
   ],
   "source": [
    "a,b,c = 10,20,30\n",
    "print(a,b,c)\n",
    "print(a,b,c,sep=\":\")"
   ]
  },
  {
   "cell_type": "code",
   "execution_count": 109,
   "id": "0af3a065-5cf3-468e-a50e-7f4f5ac85e0c",
   "metadata": {},
   "outputs": [
    {
     "name": "stdout",
     "output_type": "stream",
     "text": [
      "hello lakhan god\n"
     ]
    }
   ],
   "source": [
    "print(\"hello \",end='')\n",
    "print(\"lakhan \",end='')\n",
    "print(\"god\")"
   ]
  },
  {
   "cell_type": "code",
   "execution_count": 117,
   "id": "a0599e2d-c6b6-4f8d-8ebe-8ce069788d33",
   "metadata": {},
   "outputs": [
    {
     "name": "stdout",
     "output_type": "stream",
     "text": [
      "a value is 10\n",
      "b value is 20 and c value is 30\n"
     ]
    }
   ],
   "source": [
    "a=10\n",
    "b=20\n",
    "c=30\n",
    "print(\"a value is %i\" %a)\n",
    "print(\"b value is %d and c value is %d\" %(b,c))"
   ]
  },
  {
   "cell_type": "code",
   "execution_count": 123,
   "id": "c7ba3978-9836-4238-b049-2b3e6bc82533",
   "metadata": {},
   "outputs": [
    {
     "name": "stdout",
     "output_type": "stream",
     "text": [
      "Hello lakhan your salary is 3000000 and company is Google\n",
      "Hello lakhan your salary is 3000000 and company is Google\n"
     ]
    }
   ],
   "source": [
    "name = \"lakhan\"\n",
    "salary = 3000000\n",
    "company = \"Google\"\n",
    "print(\"Hello {0} your salary is {1} and company is {2}\".format(name,salary,company))\n",
    "print(\"Hello {x} your salary is {y} and company is {z}\".format(x=name,y=salary,z=company))"
   ]
  },
  {
   "cell_type": "code",
   "execution_count": 131,
   "id": "60da040b-ebbf-4918-99ff-3e4fce7f7bde",
   "metadata": {},
   "outputs": [
    {
     "name": "stdin",
     "output_type": "stream",
     "text": [
      "Enter no.  2543\n"
     ]
    },
    {
     "name": "stdout",
     "output_type": "stream",
     "text": [
      "3\n"
     ]
    }
   ],
   "source": [
    "#Find Last digit of number\n",
    "a = int(input(\"Enter no. \"))\n",
    "print(a%10)"
   ]
  },
  {
   "cell_type": "code",
   "execution_count": 139,
   "id": "6837ca33-78ae-4aa0-a722-5a1d085df72f",
   "metadata": {},
   "outputs": [
    {
     "name": "stdin",
     "output_type": "stream",
     "text": [
      "Enter no.  123\n"
     ]
    },
    {
     "name": "stdout",
     "output_type": "stream",
     "text": [
      "6\n"
     ]
    }
   ],
   "source": [
    "#Find sum of 3 digit number\n",
    "n = int(input(\"Enter no. \"))\n",
    "a = n%10\n",
    "n = n//10\n",
    "b = n%10\n",
    "n = n//10\n",
    "c = n%10\n",
    "print(a+b+c)"
   ]
  },
  {
   "cell_type": "code",
   "execution_count": 147,
   "id": "a39e49d6-c942-4527-b26c-6ad7a688d1ad",
   "metadata": {},
   "outputs": [
    {
     "name": "stdin",
     "output_type": "stream",
     "text": [
      "Enter no.  12345\n"
     ]
    },
    {
     "name": "stdout",
     "output_type": "stream",
     "text": [
      "sum:  15\n",
      "reverse:  54321\n"
     ]
    }
   ],
   "source": [
    "#Find sum of 5 digit number\n",
    "n = int(input(\"Enter no. \")) #12345\n",
    "a = n%10 #5\n",
    "n = n//10 #1234\n",
    "b = n%10 #4\n",
    "n = n//10 #123\n",
    "c = n%10 #3\n",
    "n = n//10 #12\n",
    "d = n%10 #2\n",
    "n = n//10 #1\n",
    "e = n%10 #1\n",
    "print(\"sum: \",a+b+c+d+e)\n",
    "print(\"reverse: \",a*10000+b*1000+c*100+d*10+e)"
   ]
  },
  {
   "cell_type": "code",
   "execution_count": 155,
   "id": "391870b3-432d-4e2d-9c94-12acf02a26b8",
   "metadata": {},
   "outputs": [
    {
     "name": "stdin",
     "output_type": "stream",
     "text": [
      "Enter no.  123456789\n"
     ]
    },
    {
     "name": "stdout",
     "output_type": "stream",
     "text": [
      "10\n"
     ]
    }
   ],
   "source": [
    "n = int(input(\"Enter no. \"))\n",
    "print(n//100000000 + n%10)"
   ]
  },
  {
   "cell_type": "code",
   "execution_count": 161,
   "id": "339276e5-7966-401a-93a5-ea9c6ff1e6f3",
   "metadata": {},
   "outputs": [
    {
     "name": "stdout",
     "output_type": "stream",
     "text": [
      "l\n",
      "n\n",
      "lakh\n",
      "kh\n",
      "lakha\n",
      "ha\n",
      "nahkal\n",
      "lakhan\n"
     ]
    }
   ],
   "source": [
    "#String Slicing\n",
    "s = \"lakhan\"\n",
    "print(s[0])\n",
    "print(s[-1])\n",
    "print(s[0:4])\n",
    "print(s[2:4])\n",
    "print(s[:5])\n",
    "print(s[3:5])\n",
    "print(s[::-1])\n",
    "print(s[::])"
   ]
  },
  {
   "cell_type": "code",
   "execution_count": 165,
   "id": "7e691a2f-8421-453b-a688-b51fb6f193f9",
   "metadata": {},
   "outputs": [
    {
     "name": "stdin",
     "output_type": "stream",
     "text": [
      "enter n1 34\n",
      "enter n2 53\n",
      "enter n3 23\n",
      "enter n4 64\n",
      "enter n5 1\n"
     ]
    },
    {
     "name": "stdout",
     "output_type": "stream",
     "text": [
      "max is:  64\n"
     ]
    }
   ],
   "source": [
    "#if\n",
    "n1=int(input(\"enter n1\"))\n",
    "n2=int(input(\"enter n2\"))\n",
    "n3=int(input(\"enter n3\"))\n",
    "n4=int(input(\"enter n4\"))\n",
    "n5=int(input(\"enter n5\"))\n",
    "max = n1\n",
    "if(n2>max):\n",
    "    max=n2\n",
    "if(n3>max):\n",
    "    max=n3\n",
    "if(n4>max):\n",
    "    max=n4\n",
    "if(n5>max):\n",
    "    max=n5\n",
    "print(\"max is: \",max)"
   ]
  },
  {
   "cell_type": "code",
   "execution_count": 175,
   "id": "1f59ee41-0e70-489c-83a5-b662018f0ef7",
   "metadata": {},
   "outputs": [
    {
     "name": "stdin",
     "output_type": "stream",
     "text": [
      "enter marks1 88\n",
      "enter marks2 88\n",
      "enter marks3 88\n",
      "enter gender(m/f) f\n"
     ]
    },
    {
     "name": "stdout",
     "output_type": "stream",
     "text": [
      "She can take admission\n"
     ]
    }
   ],
   "source": [
    "n1=int(input(\"enter marks1\"))\n",
    "n2=int(input(\"enter marks2\"))\n",
    "n3=int(input(\"enter marks3\"))\n",
    "g = input(\"enter gender(m/f)\")\n",
    "per = (n1+n2+n3)/3\n",
    "\n",
    "if(per>=82 and g=='f'):\n",
    "    print(\"She can take admission\")\n",
    "elif(per>=62 and g=='m'):\n",
    "    print(\"He can take admission\")\n",
    "else:\n",
    "    print(\"Can't take admission\")\n",
    "\n",
    "    "
   ]
  },
  {
   "cell_type": "code",
   "execution_count": 183,
   "id": "90fde917-b440-4547-8492-af75649d3d29",
   "metadata": {},
   "outputs": [
    {
     "name": "stdin",
     "output_type": "stream",
     "text": [
      "enter Year:  1900\n"
     ]
    },
    {
     "name": "stdout",
     "output_type": "stream",
     "text": [
      "not a leap year\n"
     ]
    }
   ],
   "source": [
    "#Check leap year\n",
    "n=int(input(\"enter Year: \"))\n",
    "if(n%400==0):\n",
    "    print(\"this is century leap year\")\n",
    "elif(n%4==0 and n%100!=0):\n",
    "    print(\"normal leap year\")\n",
    "else:\n",
    "    print(\"not a leap year\")"
   ]
  },
  {
   "cell_type": "code",
   "execution_count": 195,
   "id": "9be5989b-6a09-47fe-866b-0328b1d3ee80",
   "metadata": {},
   "outputs": [
    {
     "name": "stdin",
     "output_type": "stream",
     "text": [
      "Enter cost price:  100\n",
      "are you student(y/n):  y\n"
     ]
    },
    {
     "name": "stdout",
     "output_type": "stream",
     "text": [
      "cost price:  100\n",
      "total discount:  5.0\n",
      "net price:  95.0\n"
     ]
    }
   ],
   "source": [
    "cp = int(input(\"Enter cost price: \"))\n",
    "role = input(\"are you student(y/n): \")\n",
    "dis=0\n",
    "if(role=='y'):\n",
    "    if(cp>500):\n",
    "        dis=cp*10/100\n",
    "    else:\n",
    "        dis=cp*5/100\n",
    "else:\n",
    "    if(cp>500):\n",
    "        dis=cp*8/100\n",
    "    else:\n",
    "        dis=cp*2/100\n",
    "\n",
    "print(\"cost price: \",cp)\n",
    "print(\"total discount: \",dis)\n",
    "print(\"net price: \",cp-dis)\n",
    "    "
   ]
  },
  {
   "cell_type": "code",
   "execution_count": 219,
   "id": "04da8672-7114-435e-8afa-025a93bdc54b",
   "metadata": {},
   "outputs": [
    {
     "name": "stdin",
     "output_type": "stream",
     "text": [
      "enter any character:  5\n"
     ]
    },
    {
     "name": "stdout",
     "output_type": "stream",
     "text": [
      "digit\n"
     ]
    }
   ],
   "source": [
    "# ASCII Values\n",
    "#A-65 , a-97 , 0-48\n",
    "\n",
    "x = input(\"enter any character: \")\n",
    "x = ord(x)\n",
    "if(x>=65 and x<=90):\n",
    "    print(\"Upper case alphabet\")\n",
    "elif(x>=97 and x<=122):\n",
    "    print(\"lower case alphabet\")\n",
    "elif(x>=48 and x<=57):\n",
    "    print(\"digit\")\n",
    "else:\n",
    "    print(\"special character\")\n"
   ]
  },
  {
   "cell_type": "code",
   "execution_count": 221,
   "id": "141ac396-258a-4688-905f-ef9f9e040446",
   "metadata": {},
   "outputs": [],
   "source": [
    "#loops- for while\n",
    "#for loop is used when range is given\n",
    "#while loop is used when range is not given"
   ]
  },
  {
   "cell_type": "code",
   "execution_count": 233,
   "id": "5d33aaab-95df-4354-b81e-8c5ce1ad91e8",
   "metadata": {},
   "outputs": [
    {
     "name": "stdin",
     "output_type": "stream",
     "text": [
      "Enter number:  12546\n"
     ]
    },
    {
     "name": "stdout",
     "output_type": "stream",
     "text": [
      "64521\n"
     ]
    }
   ],
   "source": [
    "#reverse number\n",
    "n = int(input(\"Enter number: \"))\n",
    "rev=0\n",
    "while(n>0):\n",
    "    rev = rev*10 + n%10\n",
    "    n=n//10\n",
    "print(rev)"
   ]
  },
  {
   "cell_type": "code",
   "execution_count": 237,
   "id": "58b52293-e363-449d-b22d-e9afa38d6b03",
   "metadata": {},
   "outputs": [
    {
     "name": "stdin",
     "output_type": "stream",
     "text": [
      "Enter number:  123466\n"
     ]
    },
    {
     "name": "stdout",
     "output_type": "stream",
     "text": [
      "6\n"
     ]
    }
   ],
   "source": [
    "#no of digits\n",
    "n = int(input(\"Enter number: \"))\n",
    "i=0\n",
    "while(n>0):\n",
    "    i=i+1\n",
    "    n=n//10\n",
    "print(i)"
   ]
  },
  {
   "cell_type": "code",
   "execution_count": 241,
   "id": "06968b5a-f1cd-4e9f-a4e0-70d1ce6a39f7",
   "metadata": {},
   "outputs": [
    {
     "name": "stdin",
     "output_type": "stream",
     "text": [
      "Enter number:  1234\n"
     ]
    },
    {
     "name": "stdout",
     "output_type": "stream",
     "text": [
      "10\n"
     ]
    }
   ],
   "source": [
    "#sum of digits\n",
    "n = int(input(\"Enter number: \"))\n",
    "sum=0\n",
    "while(n>0):\n",
    "    sum=sum+n%10\n",
    "    n=n//10\n",
    "print(sum)"
   ]
  },
  {
   "cell_type": "code",
   "execution_count": 3,
   "id": "916fbbf2-6adf-4a04-a5b4-73e55b0a7e2a",
   "metadata": {},
   "outputs": [
    {
     "name": "stdin",
     "output_type": "stream",
     "text": [
      "Enter number:  34\n"
     ]
    },
    {
     "name": "stdout",
     "output_type": "stream",
     "text": [
      "12\n"
     ]
    }
   ],
   "source": [
    "#multiplication of digits\n",
    "n = int(input(\"Enter number: \"))\n",
    "prod=1\n",
    "while(n>0):\n",
    "    prod=prod*(n%10)\n",
    "    n=n//10\n",
    "print(prod)"
   ]
  },
  {
   "cell_type": "code",
   "execution_count": 5,
   "id": "a18ba400-b749-4ffe-b420-9418a0cb8dc4",
   "metadata": {},
   "outputs": [
    {
     "name": "stdin",
     "output_type": "stream",
     "text": [
      "Enter number:  4\n"
     ]
    },
    {
     "name": "stdout",
     "output_type": "stream",
     "text": [
      "24\n"
     ]
    }
   ],
   "source": [
    "#factorial of digits\n",
    "n = int(input(\"Enter number: \"))\n",
    "fact = 1\n",
    "while(n>0):\n",
    "    fact=fact*n\n",
    "    n=n-1\n",
    "print(fact)"
   ]
  },
  {
   "cell_type": "code",
   "execution_count": 19,
   "id": "bd1bb92e-c2b0-44b1-99db-1369628b3cfe",
   "metadata": {},
   "outputs": [
    {
     "name": "stdin",
     "output_type": "stream",
     "text": [
      "Enter number:  153\n"
     ]
    },
    {
     "name": "stdout",
     "output_type": "stream",
     "text": [
      "yes\n"
     ]
    }
   ],
   "source": [
    "#Armstrong\n",
    "n = int(input(\"Enter number: \"))\n",
    "x=n\n",
    "x2=n\n",
    "i = 0\n",
    "while(x>0):\n",
    "    i=i+1\n",
    "    x=x//10\n",
    "sum = 0\n",
    "while(n>0):\n",
    "    d = n%10\n",
    "    sum = sum + (d**i)\n",
    "    n = n//10\n",
    "if sum==x2:\n",
    "    print(\"yes\")\n",
    "else:\n",
    "    print(\"no\")"
   ]
  },
  {
   "cell_type": "code",
   "execution_count": 25,
   "id": "2b565c5f-1f02-402b-930a-a2d1d7f3114e",
   "metadata": {},
   "outputs": [
    {
     "name": "stdout",
     "output_type": "stream",
     "text": [
      "1\n",
      "2\n",
      "3\n",
      "4\n",
      "5\n",
      "6\n",
      "7\n",
      "8\n",
      "9\n",
      "153\n",
      "370\n",
      "371\n",
      "407\n",
      "1634\n",
      "8208\n",
      "9474\n"
     ]
    }
   ],
   "source": [
    "#Armstrong between 1 to 1000\n",
    "for j in range(1,10001):\n",
    "    n = j\n",
    "    x=n\n",
    "    x2=n\n",
    "    i = 0\n",
    "    while(x>0):\n",
    "        i=i+1\n",
    "        x=x//10\n",
    "    sum = 0\n",
    "    while(n>0):\n",
    "        d = n%10\n",
    "        sum = sum + (d**i)\n",
    "        n = n//10\n",
    "    if sum==x2:\n",
    "        print(j)"
   ]
  },
  {
   "cell_type": "code",
   "execution_count": 5,
   "id": "4699385b-29ab-4b6c-8f01-5bfdf9eacece",
   "metadata": {},
   "outputs": [
    {
     "name": "stdin",
     "output_type": "stream",
     "text": [
      "Enter n:  145\n"
     ]
    },
    {
     "name": "stdout",
     "output_type": "stream",
     "text": [
      "yes\n"
     ]
    }
   ],
   "source": [
    "#Peterson number\n",
    "n = int(input(\"Enter n: \"))\n",
    "sum=0\n",
    "x=n\n",
    "while(n>0):\n",
    "    d = n%10\n",
    "    fact=1\n",
    "    while(d>0):\n",
    "        fact = fact * d\n",
    "        d = d -1\n",
    "    sum = sum + fact\n",
    "    n=n//10\n",
    "if(sum==x):\n",
    "    print(\"yes\")\n",
    "else:\n",
    "    print(\"no\")"
   ]
  },
  {
   "cell_type": "code",
   "execution_count": 29,
   "id": "32da3c59-c59e-43c5-9e49-7b9a861b6602",
   "metadata": {},
   "outputs": [
    {
     "name": "stdin",
     "output_type": "stream",
     "text": [
      "Enter n:  2025\n"
     ]
    },
    {
     "name": "stdout",
     "output_type": "stream",
     "text": [
      "yes\n"
     ]
    }
   ],
   "source": [
    "#Tech Number\n",
    "n = int(input(\"Enter n: \"))\n",
    "n1=n\n",
    "n2=n\n",
    "digitCount=0\n",
    "while(n>0):\n",
    "    digitCount= digitCount+1\n",
    "    n=n//10\n",
    "if(digitCount%2!=0):\n",
    "    print(\"no\")\n",
    "else:\n",
    "    dc = digitCount//2\n",
    "    sum1=0\n",
    "    sum2=0\n",
    "    sum1 = n1 % (10**dc)\n",
    "    sum2 = n1//(10**dc)\n",
    "    sum = sum1+sum2\n",
    "    fNo = sum**2\n",
    "    if(fNo==n2):\n",
    "        print(\"yes\")\n",
    "    else:\n",
    "        print(\"no\")"
   ]
  },
  {
   "cell_type": "code",
   "execution_count": null,
   "id": "c292700d-28ac-4f6f-91a7-739dc67f165b",
   "metadata": {},
   "outputs": [],
   "source": []
  }
 ],
 "metadata": {
  "kernelspec": {
   "display_name": "Python 3 (ipykernel)",
   "language": "python",
   "name": "python3"
  },
  "language_info": {
   "codemirror_mode": {
    "name": "ipython",
    "version": 3
   },
   "file_extension": ".py",
   "mimetype": "text/x-python",
   "name": "python",
   "nbconvert_exporter": "python",
   "pygments_lexer": "ipython3",
   "version": "3.12.4"
  }
 },
 "nbformat": 4,
 "nbformat_minor": 5
}
