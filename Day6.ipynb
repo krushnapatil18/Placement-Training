{
 "cells": [
  {
   "cell_type": "code",
   "execution_count": 5,
   "id": "38f46a6c-59a9-4660-9901-97d6ce6ca458",
   "metadata": {},
   "outputs": [
    {
     "name": "stdout",
     "output_type": "stream",
     "text": [
      "No\n"
     ]
    }
   ],
   "source": [
    "# Power of 4 (16=2*2*2*2)\n",
    "def p4(n):\n",
    "    if n <= 0:\n",
    "        return False\n",
    "    while n % 4 == 0:\n",
    "        n /= 4\n",
    "    return n == 1\n",
    "\n",
    "p4(16)"
   ]
  },
  {
   "cell_type": "code",
   "execution_count": 25,
   "id": "dad9c345-ab6a-42a7-a9ea-86f7e61d6e6b",
   "metadata": {},
   "outputs": [
    {
     "name": "stdout",
     "output_type": "stream",
     "text": [
      "[0, 1, 2, 4, 5]\n",
      "[0, 1, 2, 4, 5]\n",
      "Equal\n"
     ]
    }
   ],
   "source": [
    "#sort array and find if array is equal or not\n",
    "def sort(arr):\n",
    "    n=len(arr)\n",
    "    for i in range(n):\n",
    "        min=i\n",
    "        for j in range(i+1,n):\n",
    "            if(arr[j]<arr[min]):\n",
    "                min=j\n",
    "        temp = arr[min]\n",
    "        arr[min] = arr[i]\n",
    "        arr[i] = temp\n",
    "    return arr\n",
    "    \n",
    "a=[1,2,5,4,0]\n",
    "b = [2,4,5,0,1]\n",
    "asort = sort(a)\n",
    "bsort = sort(b)\n",
    "\n",
    "print(asort)\n",
    "print(bsort)\n",
    "\n",
    "if asort == bsort:\n",
    "    print(\"Equal\")\n",
    "else:\n",
    "    print(\"NOt equal\")\n"
   ]
  },
  {
   "cell_type": "code",
   "execution_count": 27,
   "id": "139b1590-7039-42c6-85c5-e993cee500a5",
   "metadata": {},
   "outputs": [
    {
     "name": "stdout",
     "output_type": "stream",
     "text": [
      "4\n"
     ]
    }
   ],
   "source": [
    "#Majority element\n",
    "\n",
    "dict = {\n",
    "    3:2 ,\n",
    "    4:5\n",
    "}\n",
    "arr = [3,3,4,2,4,4,2,4,4]\n",
    "for i in arr:\n",
    "    if i not in dict:\n",
    "        dict[i] = 1\n",
    "    else:\n",
    "        dict[i] += 1\n",
    "\n",
    "max = dict[arr[0]]\n",
    "for i in dict:\n",
    "    if dict[i]>max:\n",
    "        max= dict[i]\n",
    "for k,v in dict.items():\n",
    "    if v==max:\n",
    "        max=k\n",
    "print(max)\n"
   ]
  },
  {
   "cell_type": "code",
   "execution_count": 35,
   "id": "93372bbf-5b31-445d-8eaf-2c4c31c06750",
   "metadata": {},
   "outputs": [
    {
     "data": {
      "text/plain": [
       "[2, 1, 3, 12, 0, 0, 0, 0]"
      ]
     },
     "execution_count": 35,
     "metadata": {},
     "output_type": "execute_result"
    }
   ],
   "source": [
    "#move zeros to end\n",
    "def zero(arr):\n",
    "    n=len(arr)\n",
    "    for i in range(n-1,0,-1):\n",
    "        for j in range(i):\n",
    "            if arr[j] == 0:\n",
    "                temp = arr[j]\n",
    "                arr[j] = arr[j+1]\n",
    "                arr[j+1] = temp\n",
    "    return arr\n",
    "arr = [0,2,1,0,0,3,12,0]\n",
    "zero(arr)"
   ]
  },
  {
   "cell_type": "code",
   "execution_count": 37,
   "id": "cd1f7754-bffa-4582-8cc8-85b2e0920dca",
   "metadata": {},
   "outputs": [
    {
     "data": {
      "text/plain": [
       "[1, 3, 6]"
      ]
     },
     "execution_count": 37,
     "metadata": {},
     "output_type": "execute_result"
    }
   ],
   "source": [
    "#intersection in array for common elemnt\n",
    "a1 = [1,2,3,6,7]\n",
    "a2 = [2,3,1,6,7]\n",
    "a3 = [3,4,1,6]\n",
    "ans = []\n",
    "for i in a1:\n",
    "    if ((i in a2) and (i in a3)):\n",
    "        ans.append(i)\n",
    "ans"
   ]
  },
  {
   "cell_type": "code",
   "execution_count": 39,
   "id": "d45ef44c-0e50-422b-bb7a-0027904d4288",
   "metadata": {},
   "outputs": [
    {
     "name": "stdout",
     "output_type": "stream",
     "text": [
      "4\n"
     ]
    }
   ],
   "source": [
    "r = 7\n",
    "unit = 2\n",
    "arr = [2,8,3,5,7,4,1,2]\n",
    "n = len(arr)\n",
    "req = r*unit\n",
    "sum = 0\n",
    "count = 0\n",
    "for i in arr:\n",
    "    sum = sum + i\n",
    "    count = count + 1\n",
    "    if sum>=req:\n",
    "        break\n",
    "\n",
    "if sum<req:\n",
    "    print(0)\n",
    "else:\n",
    "    print(count)"
   ]
  },
  {
   "cell_type": "code",
   "execution_count": 41,
   "id": "92ef21a5-7d93-466a-9dd4-ce5701d5c066",
   "metadata": {},
   "outputs": [
    {
     "data": {
      "text/plain": [
       "12"
      ]
     },
     "execution_count": 41,
     "metadata": {},
     "output_type": "execute_result"
    }
   ],
   "source": [
    "arr = [10,11,7,12,14]\n",
    "sum = 0\n",
    "for i in range(len(arr)-1):\n",
    "    sum = sum + abs(arr[i+1]-arr[i])\n",
    "\n",
    "sum"
   ]
  },
  {
   "cell_type": "code",
   "execution_count": 54,
   "id": "e9cf7a0d-0404-4708-a83f-300f1d9853de",
   "metadata": {},
   "outputs": [
    {
     "data": {
      "text/plain": [
       "3"
      ]
     },
     "execution_count": 54,
     "metadata": {},
     "output_type": "execute_result"
    }
   ],
   "source": [
    "n = \"5783788923\"\n",
    "c = 0\n",
    "s = set()\n",
    "for i in range(len(n)):\n",
    "    for j in range(i+1,len(n)):\n",
    "        if n[i]==n[j]:\n",
    "            s.add(n[i])\n",
    "          \n",
    "            break\n",
    "\n",
    "len(s)"
   ]
  },
  {
   "cell_type": "code",
   "execution_count": 70,
   "id": "83cb7aaf-fbad-4bd8-a200-7a596e81fafe",
   "metadata": {},
   "outputs": [
    {
     "data": {
      "text/plain": [
       "8"
      ]
     },
     "execution_count": 70,
     "metadata": {},
     "output_type": "execute_result"
    }
   ],
   "source": [
    "a=[3,1,5,10,8]\n",
    "max=a[0]\n",
    "lmax = max\n",
    "for i in a:\n",
    "    if i>max:\n",
    "        lmax = max\n",
    "        max = i\n",
    "    elif i > lmax:\n",
    "        llmax = lmax     \n",
    "        lmax = i\n",
    "\n",
    "lmax\n"
   ]
  },
  {
   "cell_type": "code",
   "execution_count": 66,
   "id": "feca13fd-7a02-4abf-9512-d07ae3316575",
   "metadata": {},
   "outputs": [
    {
     "name": "stdout",
     "output_type": "stream",
     "text": [
      "10\n",
      "8\n",
      "5\n"
     ]
    }
   ],
   "source": [
    "a=[3,1,8,10,5]\n",
    "max=a[0]\n",
    "lmax = max\n",
    "llmax=lmax\n",
    "for i in a:\n",
    "    if i>max:\n",
    "        llmax=lmax\n",
    "        lmax = max\n",
    "        max = i\n",
    "    elif i > lmax:\n",
    "        llmax = lmax     \n",
    "        lmax = i         \n",
    "    elif i > llmax:\n",
    "        llmax = i\n",
    "\n",
    "print(max)\n",
    "print(lmax)\n",
    "print(llmax)\n"
   ]
  },
  {
   "cell_type": "code",
   "execution_count": 74,
   "id": "a3dda2b0-33ca-4832-8060-90e3d0613ff4",
   "metadata": {},
   "outputs": [
    {
     "data": {
      "text/plain": [
       "3"
      ]
     },
     "execution_count": 74,
     "metadata": {},
     "output_type": "execute_result"
    }
   ],
   "source": [
    "def sort(arr):\n",
    "    n=len(arr)\n",
    "    for i in range(n):\n",
    "        min=i\n",
    "        for j in range(i+1,n):\n",
    "            if(arr[j]<arr[min]):\n",
    "                min=j\n",
    "        temp = arr[min]\n",
    "        arr[min] = arr[i]\n",
    "        arr[i] = temp\n",
    "    return arr\n",
    "        \n",
    "arr = [5,2,8,3,1,9,4]\n",
    "sort(arr)\n",
    "k=3\n",
    "arr[k-1]\n",
    "\n",
    "\n"
   ]
  },
  {
   "cell_type": "code",
   "execution_count": 90,
   "id": "ecafa64a-1fe6-4349-8df0-87668c72fe62",
   "metadata": {},
   "outputs": [
    {
     "data": {
      "text/plain": [
       "549"
      ]
     },
     "execution_count": 90,
     "metadata": {},
     "output_type": "execute_result"
    }
   ],
   "source": [
    "from itertools import permutations\n",
    "\n",
    "def generate_permutations(number):\n",
    "    number_str = str(number)\n",
    "    perm = permutations (number_str)\n",
    "    perm_list = [''.join(p) for p in perm]\n",
    "    return perm_list\n",
    "\n",
    "number = 459\n",
    "b = 500\n",
    "permu = generate_permutations (number)\n",
    "g = []\n",
    "for i in permu:\n",
    "    if int(i)>b:\n",
    "        g.append(int(i))\n",
    "\n",
    "g.sort()\n",
    "g[0]"
   ]
  },
  {
   "cell_type": "code",
   "execution_count": 102,
   "id": "82f35985-11d6-4d0e-be42-b91db22edf4e",
   "metadata": {},
   "outputs": [
    {
     "data": {
      "text/plain": [
       "['5051']"
      ]
     },
     "execution_count": 102,
     "metadata": {},
     "output_type": "execute_result"
    }
   ],
   "source": [
    "s=\"hello this is alpha 5051 and 9475\"\n",
    "l= s.split(' ')\n",
    "ans=[]\n",
    "for i in l:\n",
    "    if i.isdigit():\n",
    "        f = True\n",
    "        for j in i:\n",
    "            if j=='9':\n",
    "                f= False\n",
    "        if f==True:\n",
    "            ans.append(i)\n",
    "ans\n",
    "                \n",
    "                \n",
    "                \n",
    "                "
   ]
  },
  {
   "cell_type": "code",
   "execution_count": null,
   "id": "bcdf0ace-d5d6-47eb-b994-788f1d3edc46",
   "metadata": {},
   "outputs": [],
   "source": []
  }
 ],
 "metadata": {
  "kernelspec": {
   "display_name": "Python 3 (ipykernel)",
   "language": "python",
   "name": "python3"
  },
  "language_info": {
   "codemirror_mode": {
    "name": "ipython",
    "version": 3
   },
   "file_extension": ".py",
   "mimetype": "text/x-python",
   "name": "python",
   "nbconvert_exporter": "python",
   "pygments_lexer": "ipython3",
   "version": "3.12.4"
  }
 },
 "nbformat": 4,
 "nbformat_minor": 5
}
