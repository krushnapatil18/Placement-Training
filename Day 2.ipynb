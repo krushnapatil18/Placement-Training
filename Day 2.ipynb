{
 "cells": [
  {
   "cell_type": "code",
   "execution_count": 13,
   "id": "0bd28a19-e528-4f7f-9369-1ecf54c479f4",
   "metadata": {},
   "outputs": [
    {
     "name": "stdout",
     "output_type": "stream",
     "text": [
      "1 10\n",
      "2 9\n",
      "4 7\n",
      "5 6\n"
     ]
    }
   ],
   "source": [
    "#Break and Continue\n",
    "for i in range(1,6):\n",
    "  if i==3:\n",
    "    continue\n",
    "  print(i,11-i)"
   ]
  },
  {
   "cell_type": "code",
   "execution_count": 45,
   "id": "0b8dbaf8-d50b-4323-aa71-e99a4241ffb1",
   "metadata": {},
   "outputs": [
    {
     "name": "stdout",
     "output_type": "stream",
     "text": [
      "1111\n",
      "2222\n",
      "3333\n",
      "4444\n"
     ]
    }
   ],
   "source": [
    "#nested loops\n",
    "\n",
    "for x in range(1,5): #rows\n",
    "    for y in range(1,5):  #cols\n",
    "        print(x,end='')\n",
    "    print()\n",
    "        "
   ]
  },
  {
   "cell_type": "code",
   "execution_count": 43,
   "id": "a44f79e8-5640-4172-82a2-b191fd101222",
   "metadata": {},
   "outputs": [
    {
     "name": "stdout",
     "output_type": "stream",
     "text": [
      "1 2 3 4 \n",
      "5 6 7 8 \n",
      "9 10 11 12 \n",
      "13 14 15 16 \n"
     ]
    }
   ],
   "source": [
    "i=1\n",
    "for x in range(1,5): #rows\n",
    "    for y in range(1,5):  #cols\n",
    "        print(i,end=' ')\n",
    "        i=i+1\n",
    "    print()"
   ]
  },
  {
   "cell_type": "code",
   "execution_count": 47,
   "id": "ba168fd0-46b4-4696-84bd-49825fc97477",
   "metadata": {},
   "outputs": [
    {
     "name": "stdout",
     "output_type": "stream",
     "text": [
      "A B C D \n",
      "E F G H \n",
      "I J K L \n",
      "M N O P \n"
     ]
    }
   ],
   "source": [
    "i=65\n",
    "for x in range(1,5): #rows\n",
    "    for y in range(1,5):  #cols\n",
    "        print(chr(i),end=' ')\n",
    "        i=i+1\n",
    "    print()"
   ]
  },
  {
   "cell_type": "code",
   "execution_count": 61,
   "id": "690c7bd1-417f-4285-b47a-e92bf30fce8f",
   "metadata": {},
   "outputs": [
    {
     "name": "stdout",
     "output_type": "stream",
     "text": [
      "1 \n",
      "2 2 \n",
      "3 3 3 \n",
      "4 4 4 4 \n"
     ]
    }
   ],
   "source": [
    "for x in range(1,5): #rows\n",
    "    for y in range(1,x+1):  #cols\n",
    "        print(x,end=' ')\n",
    "    print()"
   ]
  },
  {
   "cell_type": "code",
   "execution_count": 63,
   "id": "1a99f938-9f65-4c97-ab1b-e6b132ba33fe",
   "metadata": {},
   "outputs": [
    {
     "name": "stdout",
     "output_type": "stream",
     "text": [
      "* \n",
      "* * \n",
      "* * * \n",
      "* * * * \n"
     ]
    }
   ],
   "source": [
    "for x in range(1,5): #rows\n",
    "    for y in range(1,x+1):  #cols\n",
    "        print(\"*\",end=' ')\n",
    "    print()"
   ]
  },
  {
   "cell_type": "code",
   "execution_count": 65,
   "id": "b430069c-2bdf-4f96-9ef1-44dc2029d45a",
   "metadata": {},
   "outputs": [
    {
     "name": "stdout",
     "output_type": "stream",
     "text": [
      "* * * * \n",
      "* * * \n",
      "* * \n",
      "* \n"
     ]
    }
   ],
   "source": [
    "for i in range(4,0,-1):\n",
    "    for j in range(0,i):\n",
    "        print(\"*\",end=' ')\n",
    "    print()"
   ]
  },
  {
   "cell_type": "code",
   "execution_count": 113,
   "id": "9a6772a3-4ad0-4451-93ef-660f8c52061a",
   "metadata": {},
   "outputs": [
    {
     "name": "stdout",
     "output_type": "stream",
     "text": [
      "****\n",
      " ***\n",
      "  **\n",
      "   *\n"
     ]
    }
   ],
   "source": [
    "sp=1\n",
    "for i in range(1,5):\n",
    "    for j in range(1,i):\n",
    "        print(\" \",end='')\n",
    "        sp=sp+1\n",
    "    for k in range(1,6-i):\n",
    "        print(\"*\",end='')\n",
    "    print()"
   ]
  },
  {
   "cell_type": "code",
   "execution_count": 111,
   "id": "91902c2d-d73d-49b5-b921-9fc62199a645",
   "metadata": {},
   "outputs": [
    {
     "name": "stdout",
     "output_type": "stream",
     "text": [
      "   *\n",
      "  **\n",
      " ***\n",
      "****\n"
     ]
    }
   ],
   "source": [
    "for i in range(1,5):\n",
    "    for k in range(1,5-i):\n",
    "        print(\" \",end=\"\")\n",
    "    for j in range(1,i+1):\n",
    "        print(\"*\",end=\"\")\n",
    "    print()"
   ]
  },
  {
   "cell_type": "code",
   "execution_count": 117,
   "id": "d95f99ec-077f-492d-96ed-1b76bb0b8dba",
   "metadata": {},
   "outputs": [
    {
     "name": "stdout",
     "output_type": "stream",
     "text": [
      "10\n"
     ]
    },
    {
     "ename": "NameError",
     "evalue": "name 'a' is not defined",
     "output_type": "error",
     "traceback": [
      "\u001b[1;31m---------------------------------------------------------------------------\u001b[0m",
      "\u001b[1;31mNameError\u001b[0m                                 Traceback (most recent call last)",
      "Cell \u001b[1;32mIn[117], line 5\u001b[0m\n\u001b[0;32m      3\u001b[0m \u001b[38;5;28mprint\u001b[39m(a)\n\u001b[0;32m      4\u001b[0m \u001b[38;5;28;01mdel\u001b[39;00m a\n\u001b[1;32m----> 5\u001b[0m \u001b[38;5;28mprint\u001b[39m(a)\n",
      "\u001b[1;31mNameError\u001b[0m: name 'a' is not defined"
     ]
    }
   ],
   "source": [
    "#Del\n",
    "a=10\n",
    "print(a)\n",
    "del a\n",
    "print(a)"
   ]
  },
  {
   "cell_type": "code",
   "execution_count": 121,
   "id": "b0f9fde7-fc4e-482e-99ea-54a6549062f6",
   "metadata": {},
   "outputs": [
    {
     "name": "stdout",
     "output_type": "stream",
     "text": [
      "9\n",
      "-1\n",
      "3\n",
      "43\n"
     ]
    }
   ],
   "source": [
    "#Sting Handling\n",
    "\n",
    "s = \"Learning Python is very easy from Ashish Sir\" \n",
    "print(s.find(\"Python\")) #9\n",
    "print(s.find(\"Java\")) #-1\n",
    "print(s.find(\"r\")) #3\n",
    "print(s.rfind(\"r\")) #43"
   ]
  },
  {
   "cell_type": "code",
   "execution_count": 125,
   "id": "ddb5c622-5045-4ec5-848f-e133ae2d66ce",
   "metadata": {},
   "outputs": [
    {
     "name": "stdout",
     "output_type": "stream",
     "text": [
      "6\n",
      "4\n",
      "3\n"
     ]
    }
   ],
   "source": [
    "s = \"abcabcabcabcadda\"\n",
    "print(s.count('a'))\n",
    "print(s.count('ab'))\n",
    "print(s.count('a',3,10))"
   ]
  },
  {
   "cell_type": "code",
   "execution_count": 127,
   "id": "552c1e6a-e710-4db4-bab4-7b3968a59ca9",
   "metadata": {},
   "outputs": [
    {
     "name": "stdout",
     "output_type": "stream",
     "text": [
      "Learning Python is very difficult from Ashish Sir\n",
      "Learning Python is very easy from Ashish Sir\n"
     ]
    }
   ],
   "source": [
    "s = \"Learning Python is very difficult from Ashish Sir\" \n",
    "s1 = s.replace(\"difficult\",\"easy\")\n",
    "print(s)\n",
    "print(s1)"
   ]
  },
  {
   "cell_type": "code",
   "execution_count": 133,
   "id": "4045f1b4-7480-417c-9c21-446c279706b5",
   "metadata": {},
   "outputs": [
    {
     "name": "stdout",
     "output_type": "stream",
     "text": [
      "['Learning', 'Python', 'is', 'very', 'easy', 'from', 'Ashish', 'Sir']\n",
      "<class 'list'>\n",
      "Learning\n",
      "Python\n",
      "is\n",
      "very\n",
      "easy\n",
      "from\n",
      "Ashish\n",
      "Sir\n"
     ]
    }
   ],
   "source": [
    "#immutable means it cannot be changed in same memory\n",
    "#split function\n",
    "l = s1.split()\n",
    "print(l)\n",
    "print(type(l))\n",
    "for x in l:\n",
    "    print(x)"
   ]
  },
  {
   "cell_type": "code",
   "execution_count": 141,
   "id": "216fa8de-c7a9-4783-8c30-1317072984dc",
   "metadata": {},
   "outputs": [
    {
     "name": "stdout",
     "output_type": "stream",
     "text": [
      "['www', 'google', 'com']\n",
      "google\n"
     ]
    }
   ],
   "source": [
    "#split function\n",
    "s = \"www.google.com\"\n",
    "l = s.split(\".\")\n",
    "print(l)\n",
    "print(l[1])"
   ]
  },
  {
   "cell_type": "code",
   "execution_count": 145,
   "id": "7d385c94-483d-4e0e-aaa1-aceb09d83f62",
   "metadata": {},
   "outputs": [
    {
     "name": "stdout",
     "output_type": "stream",
     "text": [
      "Shipur : Wapi : Sendhwa\n"
     ]
    }
   ],
   "source": [
    "#join function\n",
    "l = [\"Shipur\",\"Wapi\",\"Sendhwa\"]\n",
    "s = ' : '.join(l)\n",
    "print(s)"
   ]
  },
  {
   "cell_type": "code",
   "execution_count": 153,
   "id": "c433e70c-2782-4a2a-8d8a-21b6590c9fb7",
   "metadata": {},
   "outputs": [
    {
     "name": "stdout",
     "output_type": "stream",
     "text": [
      "learning python is very difficult from ashish sir\n",
      "LEARNING PYTHON IS VERY DIFFICULT FROM ASHISH SIR\n",
      "True\n",
      "True\n",
      "False\n"
     ]
    }
   ],
   "source": [
    "\n",
    "s = \"Learning Python is very difficult from Ashish Sir\" \n",
    "print(s.lower())\n",
    "print(s.upper())\n",
    "print(s.startswith('Learning'))\n",
    "print(s.endswith('Sir'))\n",
    "print(s.endswith('sir'))\n"
   ]
  },
  {
   "cell_type": "code",
   "execution_count": 155,
   "id": "073ccd5c-3f57-4a9b-a3e1-7bde98430feb",
   "metadata": {},
   "outputs": [],
   "source": [
    "# To check type of characters present in a string:\n",
    "\n",
    "# Python contains the following methods:\n",
    "# 1) isalnum(): Returns True if all characters are alphanumeric ( a to z , A to Z ,0 to9 )\n",
    "# 2) isalpha(): Returns True if all characters are only alphabet symbols(a to z,A to Z)\n",
    "# 3) isdigit(): Returns True if all characters are digits only( 0 to 9)\n",
    "# 4) islower(): Returns True if all characters are lower case alphabet symbolsI\n",
    "# 5) isupper(): Returns True if all characters are upper case aplhabet symbols\n",
    "# 6) istitle(): Returns True if string is in title case\n",
    "# 7) isspace(): Returns True if string contains only spaces"
   ]
  },
  {
   "cell_type": "code",
   "execution_count": 163,
   "id": "16866c12-0231-4ef9-b078-18972eb53013",
   "metadata": {},
   "outputs": [
    {
     "name": "stdin",
     "output_type": "stream",
     "text": [
      "Enter mobile no:  7123456890\n"
     ]
    },
    {
     "name": "stdout",
     "output_type": "stream",
     "text": [
      "valid\n"
     ]
    }
   ],
   "source": [
    "s = input(\"Enter mobile no: \")\n",
    "if(s.isdigit()):\n",
    "    if(len(s)==10):\n",
    "        if(s.startswith('6') or s.startswith('7') or s.startswith('8') or s.startswith('9')):\n",
    "            print(\"valid\")\n",
    "        else:\n",
    "            print(\"not indian\")\n",
    "    else:\n",
    "        print(\"less than 10 digit\")\n",
    "else:\n",
    "    print(\"enter digits only\")\n",
    "        "
   ]
  },
  {
   "cell_type": "code",
   "execution_count": 167,
   "id": "0045a36b-c70f-476c-8cbf-3a13a1ffe030",
   "metadata": {},
   "outputs": [
    {
     "name": "stdin",
     "output_type": "stream",
     "text": [
      "Enter string:  lakhan\n"
     ]
    },
    {
     "name": "stdout",
     "output_type": "stream",
     "text": [
      "nahkal\n",
      "nahkal\n"
     ]
    }
   ],
   "source": [
    "#string reverse\n",
    "s=input(\"Enter string: \")\n",
    "print(''.join(reversed(s)))\n",
    "print(s[::-1])"
   ]
  },
  {
   "cell_type": "code",
   "execution_count": 177,
   "id": "0b2af49b-6cec-477b-b0a7-79405b7f0887",
   "metadata": {},
   "outputs": [
    {
     "name": "stdout",
     "output_type": "stream",
     "text": [
      "nahkal\n"
     ]
    }
   ],
   "source": [
    "#reverse without using any function\n",
    "z=\"lakhan\"\n",
    "rev = \"\"\n",
    "for i in z:\n",
    "    rev=i+rev\n",
    "print(rev)"
   ]
  },
  {
   "cell_type": "code",
   "execution_count": 189,
   "id": "0266edb6-1b48-4026-af16-1b0de41617d1",
   "metadata": {},
   "outputs": [
    {
     "name": "stdout",
     "output_type": "stream",
     "text": [
      "['Learning', 'Python', 'is', 'very', 'easy', 'from', 'Ashish', 'Sir']\n",
      "Sir Ashish from easy very is Python Learning \n"
     ]
    }
   ],
   "source": [
    "s = \"Learning Python is very easy from Ashish Sir\" \n",
    "l = s.split()\n",
    "print(l)\n",
    "s1 = \"\"\n",
    "for i in l:\n",
    "    s1 = i + \" \" + s1\n",
    "print(s1)"
   ]
  },
  {
   "cell_type": "code",
   "execution_count": 195,
   "id": "e4a40f3c-a9a7-45e8-a164-7d0405e3ba9f",
   "metadata": {},
   "outputs": [
    {
     "name": "stdout",
     "output_type": "stream",
     "text": [
      " gninraeL nohtyP si yrev ysae morf hsihsA riS\n"
     ]
    }
   ],
   "source": [
    "s = \"Learning Python is very easy from Ashish Sir\" \n",
    "l = s.split()\n",
    "s1 = \"\"\n",
    "for i in l:\n",
    "    rev = \"\"\n",
    "    for j in i:\n",
    "        rev = j + rev\n",
    "    s1 =  s1 + \" \" + rev\n",
    "print(s1)"
   ]
  },
  {
   "cell_type": "code",
   "execution_count": 201,
   "id": "2425d198-ad3e-489b-902e-ec424bf94069",
   "metadata": {},
   "outputs": [
    {
     "name": "stdout",
     "output_type": "stream",
     "text": [
      "ABCD\n"
     ]
    }
   ],
   "source": [
    "#Remove Duplicates\n",
    "s = \"AAAABBBBCCCCDDDD\"\n",
    "s1 = []\n",
    "for x in s:\n",
    "    if x not in s1:\n",
    "        s1.append(x)\n",
    "        output = ''.join(s1)\n",
    "print(output)"
   ]
  },
  {
   "cell_type": "code",
   "execution_count": 216,
   "id": "75a7144d-88ee-4ee2-a2b1-723bf9476017",
   "metadata": {},
   "outputs": [],
   "source": [
    "#List\n",
    "#Insertation order preserved\n",
    "#duplicates objects are allowed\n",
    "# insertion order preserved.\n",
    "# duplicate objects are allowed\n",
    "# heterogeneous objects are allowed.\n",
    "# List is dynamic because based on our requirement we can increase\n",
    "# the size and decrease the size.\n",
    "# In List the elements will be placed within square brackets [ ] and\n",
    "# with comma seperator.\n",
    "# We can differentiate duplicate elements by using index and we can\n",
    "# preserve insertion order by using index. Hence index will play very\n",
    "# important role.\n",
    "# Python supports both positive and negative indexes. +ve index\n",
    "# means from left to right where as negative index means right to left\n",
    "\n",
    "#functions\n",
    "#len(list)\n",
    "#list.append(\" \")\n",
    "#list.insert(1,\" \") -- will insert at given indedx\n",
    "#list1.extend(l2) -- all L2 items will get added in list1\n",
    "#list.remove(\"\") -- only 1st occurence will get removed\n",
    "#list.pop(\"\") -- will remove and return last element"
   ]
  },
  {
   "cell_type": "code",
   "execution_count": 218,
   "id": "cb8eb0c0-0295-4983-8660-53fa6aec0129",
   "metadata": {},
   "outputs": [
    {
     "name": "stdout",
     "output_type": "stream",
     "text": [
      "[10, 20, 10, 30, 2, 42, 4, 24, 2]\n",
      "[10, 20, 10, 30, 10, 20, 10, 30, 10, 20, 10, 30]\n"
     ]
    }
   ],
   "source": [
    "n1=[10,20,10,30]\n",
    "n2=[2,42,4,24,2]\n",
    "res=n1+n2\n",
    "print(res)\n",
    "res1=n1*3\n",
    "print(res1)"
   ]
  },
  {
   "cell_type": "code",
   "execution_count": 220,
   "id": "5359f77c-8496-4ed4-b067-a473860b6b48",
   "metadata": {},
   "outputs": [
    {
     "name": "stdout",
     "output_type": "stream",
     "text": [
      "10\n",
      "30\n",
      "[23, 56, 23]\n",
      "23\n"
     ]
    }
   ],
   "source": [
    "n=[10,20,30,[23,56,23]]\n",
    "print(n[0])\n",
    "print(n[2])\n",
    "print(n[3])\n",
    "print(n[3][0])"
   ]
  },
  {
   "cell_type": "code",
   "execution_count": 226,
   "id": "37ac2924-ccbc-4b83-9e9f-3c5c0d8a88b4",
   "metadata": {},
   "outputs": [
    {
     "name": "stdout",
     "output_type": "stream",
     "text": [
      "[[10, 20, 30], [40, 50, 60], [70, 80, 90]]\n",
      "Elements by Row wise:\n",
      "[10, 20, 30]\n",
      "[40, 50, 60]\n",
      "[70, 80, 90]\n",
      "Elements by Matrix style:\n",
      "10 20 30 \n",
      "40 50 60 \n",
      "70 80 90 \n"
     ]
    }
   ],
   "source": [
    "n=[[10,20,30],[40,50,60], [70,80,90]]\n",
    "print(n)\n",
    "print(\"Elements by Row wise:\")\n",
    "for r in n:\n",
    "  print(r)\n",
    "print(\"Elements by Matrix style:\")\n",
    "for i in range(len(n)):\n",
    "  for j in range(len(n[i])):\n",
    "    print(n[i][j],end=' ')\n",
    "  print()"
   ]
  },
  {
   "cell_type": "code",
   "execution_count": 242,
   "id": "e52a5ac7-0aa2-47f7-b3a9-e53707b237d5",
   "metadata": {},
   "outputs": [
    {
     "name": "stdin",
     "output_type": "stream",
     "text": [
      "Enter no. of semesters:  3\n",
      "Enter no of subject in 1 semester:  3\n",
      "Enter no of subject in 2 semester:  2\n",
      "Enter no of subject in 3 semester:  4\n"
     ]
    },
    {
     "name": "stdout",
     "output_type": "stream",
     "text": [
      "marks obtained in semester 1\n"
     ]
    },
    {
     "name": "stdin",
     "output_type": "stream",
     "text": [
      " 101\n"
     ]
    },
    {
     "name": "stdout",
     "output_type": "stream",
     "text": [
      "you have entered marks greater than 100\n",
      " please re enter\n"
     ]
    },
    {
     "name": "stdin",
     "output_type": "stream",
     "text": [
      " 101\n"
     ]
    },
    {
     "name": "stdout",
     "output_type": "stream",
     "text": [
      "you have entered marks greater than 100\n",
      " please re enter\n"
     ]
    },
    {
     "name": "stdin",
     "output_type": "stream",
     "text": [
      " 101\n"
     ]
    },
    {
     "name": "stdout",
     "output_type": "stream",
     "text": [
      "you have entered marks greater than 100\n",
      " please re enter\n"
     ]
    },
    {
     "name": "stdin",
     "output_type": "stream",
     "text": [
      " 101\n"
     ]
    },
    {
     "name": "stdout",
     "output_type": "stream",
     "text": [
      "you have entered marks greater than 100\n",
      " please re enter\n"
     ]
    },
    {
     "name": "stdin",
     "output_type": "stream",
     "text": [
      " 100\n",
      " 1\n",
      " 1\n"
     ]
    },
    {
     "name": "stdout",
     "output_type": "stream",
     "text": [
      "marks obtained in semester 2\n"
     ]
    },
    {
     "name": "stdin",
     "output_type": "stream",
     "text": [
      " 1\n",
      " 1\n"
     ]
    },
    {
     "name": "stdout",
     "output_type": "stream",
     "text": [
      "marks obtained in semester 3\n"
     ]
    },
    {
     "name": "stdin",
     "output_type": "stream",
     "text": [
      " 11\n",
      " 1\n",
      " 1\n",
      " 11\n"
     ]
    },
    {
     "name": "stdout",
     "output_type": "stream",
     "text": [
      "maximum mark in semester 1 : 100\n",
      "maximum mark in semester 2 : 1\n",
      "maximum mark in semester 3 : 11\n"
     ]
    }
   ],
   "source": [
    "#Capjemini Question\n",
    "\n",
    "n = int(input(\"Enter no. of semesters: \"))\n",
    "noOfSub=[]\n",
    "for i in range(n):\n",
    "    m = int(input(f\"Enter no of subject in {i+1} semester: \"))\n",
    "    noOfSub.append(m)\n",
    "max_marks = []\n",
    "for i in range(len(noOfSub)):\n",
    "    marks=[]\n",
    "    print(f\"marks obtained in semester {i+1}\")\n",
    "    for j in range(noOfSub[i]):\n",
    "        x = int(input())\n",
    "        if(x>100):\n",
    "            f = True\n",
    "            while(f):\n",
    "                print(\"you have entered marks greater than 100\\nplease re enter\")\n",
    "                x=int(input())\n",
    "                if(x<=100):\n",
    "                    f=False\n",
    "        marks.append(x)\n",
    "    max_marks.append( max(marks))\n",
    "for i in range(len(max_marks)):\n",
    "    print(f\"maximum mark in semester {i+1} :\" , max_marks[i])"
   ]
  },
  {
   "cell_type": "code",
   "execution_count": 3,
   "id": "92884685-d011-4201-9b58-dffecfa6369e",
   "metadata": {},
   "outputs": [
    {
     "name": "stdout",
     "output_type": "stream",
     "text": [
      "[21, 32, 4, 12, 4, 5, 2, 12, 3, 4, 1, 1, 1, 1, 3, 4, 4]\n",
      "{32, 1, 2, 3, 4, 5, 12, 21}\n"
     ]
    }
   ],
   "source": [
    "#Remove Duplicate from list\n",
    "list = [21,32,4,12,4,5,2,12,3,4,1,1,1,1,3,4,4]\n",
    "print(list)\n",
    "s = set(list)\n",
    "print(s)"
   ]
  },
  {
   "cell_type": "code",
   "execution_count": 5,
   "id": "ae9dd510-8063-41cb-9c04-f2343f3b0006",
   "metadata": {},
   "outputs": [],
   "source": [
    "# Dictionary Data Structure\n",
    "\n",
    "# ->We can use List, Tuple and Set to represent a group of individual objects as a single entity.\n",
    "# ->If we want to represent a group of objects as key-value pairs then we should go for Dictionary.\n",
    "# Eg:\n",
    "# rollno ---- name\n",
    "# phone number -- address\n",
    "# ipaddress --- domain name\n",
    "\n",
    "# Duplicate keys are not allowed but values can be duplicated.\n",
    "# Hetrogeneous objects are allowed for both key and values.\n",
    "# insertion order is not preserved\n",
    "# Dictionaries are mutable\n",
    "# Dictionaries are dynamic\n",
    "# indexing and slicing concepts are not applicable"
   ]
  },
  {
   "cell_type": "code",
   "execution_count": 7,
   "id": "652d9bae-742c-463e-a921-c882ffb89d7d",
   "metadata": {},
   "outputs": [
    {
     "name": "stdout",
     "output_type": "stream",
     "text": [
      "{101: 'Ayush', 102: 'Jassssh'}\n"
     ]
    }
   ],
   "source": [
    "d={}\n",
    "d[101] = \"Ayush\"\n",
    "d[102] = \"Jassssh\"\n",
    "print(d)"
   ]
  },
  {
   "cell_type": "code",
   "execution_count": 13,
   "id": "3f83bbd1-40d2-47db-a509-a7e91bd897db",
   "metadata": {},
   "outputs": [
    {
     "name": "stdout",
     "output_type": "stream",
     "text": [
      "{100: 'ayush', 200: 'lakhan', 300: 'jash', 400: 'krushna', 101: 'Ayush', 102: 'Jassssh'}\n",
      "{100: 'Varun', 200: 'lakhan', 300: 'jash', 400: 'krushna', 101: 'Ayush', 102: 'Jassssh'}\n"
     ]
    }
   ],
   "source": [
    "d = {100:'ayush' , 200:'lakhan' , 300:'jash' , 400:'krushna'}\n",
    "d[101] = \"Ayush\"\n",
    "d[102] = \"Jassssh\"\n",
    "print(d)\n",
    "d[100] = \"Varun\"\n",
    "print(d)"
   ]
  },
  {
   "cell_type": "code",
   "execution_count": 23,
   "id": "fb83fa29-95a4-464d-b28c-944b5f904755",
   "metadata": {},
   "outputs": [
    {
     "name": "stdin",
     "output_type": "stream",
     "text": [
      "Enter number of students:  2\n",
      "Enter Student Name:  l\n",
      "Enter % of Marks of Student:  3\n",
      "Enter Student Name:  a\n",
      "Enter % of Marks of Student:  2\n"
     ]
    },
    {
     "name": "stdout",
     "output_type": "stream",
     "text": [
      "Name\tMarks\n",
      "-\n",
      "l \t 3\n",
      "a \t 2\n"
     ]
    }
   ],
   "source": [
    "rec={}\n",
    "n=int(input(\"Enter number of students: \"))\n",
    "for i in range(0,n):\n",
    "    name=input(\"Enter Student Name: \")\n",
    "    marks=input(\"Enter % of Marks of Student: \")\n",
    "    rec[name]=marks\n",
    "\n",
    "print(\"Name\\tMarks\")\n",
    "print(\"-\")\n",
    "for i in rec:\n",
    "    print(i,\"\\t\",rec[i])"
   ]
  },
  {
   "cell_type": "code",
   "execution_count": 27,
   "id": "eafa97f7-ac72-4e4a-b213-25b7ee6cd531",
   "metadata": {},
   "outputs": [
    {
     "name": "stdout",
     "output_type": "stream",
     "text": [
      "ashish\n",
      "ashish\n",
      "None\n",
      "ashish\n",
      "Guest\n"
     ]
    }
   ],
   "source": [
    "d={100: 'ashish' ,200: 'Prashant', 300: 'sandip'}\n",
    "print(d[100])\n",
    "print(d.get(100))\n",
    "print(d.get(400))\n",
    "print(d.get(100,\"Guest\"))\n",
    "print(d.get(400,\"Guest\"))"
   ]
  },
  {
   "cell_type": "code",
   "execution_count": 33,
   "id": "ada23526-4502-4c8b-b02f-0f7c1b6705c6",
   "metadata": {},
   "outputs": [
    {
     "name": "stdout",
     "output_type": "stream",
     "text": [
      "dict_keys([100, 200, 300])\n",
      "dict_values(['ashish', 'Prashant', 'sandip'])\n",
      "100\n",
      "200\n",
      "300\n"
     ]
    }
   ],
   "source": [
    "d={100: 'ashish' ,200: 'Prashant', 300: 'sandip'}\n",
    "print(d.keys())\n",
    "print(d.values())\n",
    "for k in d.keys():\n",
    "    print(k)"
   ]
  },
  {
   "cell_type": "code",
   "execution_count": 39,
   "id": "9f0ac4b8-459d-4b6b-a9c5-f2d5b2cb7e0a",
   "metadata": {},
   "outputs": [
    {
     "name": "stdin",
     "output_type": "stream",
     "text": [
      "Enter n:  3\n",
      "Enter value:  4\n",
      "Enter value:  5\n",
      "Enter value:  6\n"
     ]
    },
    {
     "name": "stdout",
     "output_type": "stream",
     "text": [
      "{0: 4, 1: 5, 2: 6}\n",
      "15\n"
     ]
    }
   ],
   "source": [
    "dict = {}\n",
    "n = int(input(\"Enter n: \"))\n",
    "for i in range(n):\n",
    "    x  = int(input(\"Enter value: \"))\n",
    "    dict[i] = x\n",
    "sum=0\n",
    "for k,v in dict.items():\n",
    "    sum = sum + v\n",
    "print(dict)\n",
    "print(sum)"
   ]
  },
  {
   "cell_type": "code",
   "execution_count": 41,
   "id": "d5fdebb0-87e1-4126-b7a0-24b6c9ae1a20",
   "metadata": {},
   "outputs": [
    {
     "name": "stdin",
     "output_type": "stream",
     "text": [
      "Enter n:  2\n",
      "Enter name:  lakhan\n",
      "Enter marks:  23\n",
      "Enter name:  ayush\n",
      "Enter marks:  22\n",
      "whose marks?  ayush\n"
     ]
    },
    {
     "name": "stdout",
     "output_type": "stream",
     "text": [
      "22\n"
     ]
    }
   ],
   "source": [
    "dict = {}\n",
    "n = int(input(\"Enter n: \"))\n",
    "for i in range(n):\n",
    "    x  = (input(\"Enter name: \"))\n",
    "    y = int(input(\"Enter marks: \"))\n",
    "    dict[x] = y\n",
    "z = input(\"whose marks? \")\n",
    "print(dict[z])"
   ]
  },
  {
   "cell_type": "code",
   "execution_count": 60,
   "id": "1047da87-41c4-4164-8f36-4454108f5839",
   "metadata": {},
   "outputs": [
    {
     "name": "stdout",
     "output_type": "stream",
     "text": [
      "[3, 4, 4, 34, 34, -1, 6, 7, -1]\n"
     ]
    }
   ],
   "source": [
    "arr = [1,3,2,4,2,34,5,6,7]\n",
    "ans = []\n",
    "for i in range(len(arr)):\n",
    "    max = -1\n",
    "    for j in range(i+1,len(arr)):\n",
    "        if(arr[j]>arr[i]):\n",
    "            max = arr[j]\n",
    "            break\n",
    "    ans.append(max)\n",
    "print(ans)"
   ]
  },
  {
   "cell_type": "code",
   "execution_count": 64,
   "id": "a34be4f1-b867-455b-aead-f168cb25a4a2",
   "metadata": {},
   "outputs": [
    {
     "data": {
      "text/plain": [
       "'a2b4e4f2g3'"
      ]
     },
     "execution_count": 64,
     "metadata": {},
     "output_type": "execute_result"
    }
   ],
   "source": [
    "s=\"aabbbbeeeeffggg\"\n",
    "ans=[]\n",
    "c=1\n",
    "for i in range(1,len(s)):\n",
    "    if s[i]==s[i-1]:\n",
    "        c+=1\n",
    "    else:\n",
    "        ans.append(s[i-1]+str(c))\n",
    "        c=1\n",
    "ans.append(s[-1]+str(c))\n",
    "c_s=''.join(ans)\n",
    "c_s"
   ]
  },
  {
   "cell_type": "code",
   "execution_count": 76,
   "id": "c50de8c5-6d3a-4cd1-8278-c91a269310bd",
   "metadata": {},
   "outputs": [
    {
     "name": "stdin",
     "output_type": "stream",
     "text": [
      "Enter 1st String:  lakhan\n",
      "Enter 2nd String:  khaaln\n"
     ]
    },
    {
     "name": "stdout",
     "output_type": "stream",
     "text": [
      "True\n"
     ]
    }
   ],
   "source": [
    "str1 = input(\"Enter 1st String: \").lower()\n",
    "str2 = input(\"Enter 2nd String: \").lower()\n",
    "\n",
    "str1 = ''.join(sorted(str1))\n",
    "str2 = ''.join(sorted(str2))\n",
    "\n",
    "f = str1 == str2\n",
    "print(f)\n"
   ]
  },
  {
   "cell_type": "code",
   "execution_count": null,
   "id": "7a1996bc-004b-4b86-8ec3-e09a9d301210",
   "metadata": {},
   "outputs": [],
   "source": []
  }
 ],
 "metadata": {
  "kernelspec": {
   "display_name": "Python 3 (ipykernel)",
   "language": "python",
   "name": "python3"
  },
  "language_info": {
   "codemirror_mode": {
    "name": "ipython",
    "version": 3
   },
   "file_extension": ".py",
   "mimetype": "text/x-python",
   "name": "python",
   "nbconvert_exporter": "python",
   "pygments_lexer": "ipython3",
   "version": "3.12.4"
  }
 },
 "nbformat": 4,
 "nbformat_minor": 5
}
